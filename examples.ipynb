{
 "cells": [
  {
   "cell_type": "code",
   "execution_count": null,
   "id": "ca540024",
   "metadata": {},
   "outputs": [],
   "source": [
    "from tractor_beam import tractor\n",
    "auto = tractor.Beam('./example.json')\n",
    "run = auto.go()\n",
    "print(run)\n",
    "auto.destroy('example')"
   ]
  },
  {
   "cell_type": "code",
   "execution_count": null,
   "id": "53353aa8",
   "metadata": {},
   "outputs": [],
   "source": [
    "from tractor_beam import tractor\n",
    "auto = tractor.Beam('./example.youtube.json')\n",
    "run = auto.go()\n",
    "print(run)\n",
    "auto.destroy('example')"
   ]
  },
  {
   "cell_type": "code",
   "execution_count": 3,
   "id": "9b5b7c65",
   "metadata": {},
   "outputs": [
    {
     "name": "stdout",
     "output_type": "stream",
     "text": [
      "\u001b[92m🌊 SUCCESS: config set from - ./example.repulse.json\u001b[0m\n",
      "\u001b[94mℹ️ INFO: config saved to - ./example\u001b[0m\n",
      "\u001b[92m🌊 SUCCESS: unboxed! 🛸📦 - ./example \u001b[0m\n",
      "\u001b[96m☕️ WAIT: tractor beaming with \"example\"\u001b[0m\n",
      "\u001b[94mℹ️ INFO: Abduct initialized\u001b[0m\n",
      "\u001b[94mℹ️ INFO: Records initialized\u001b[0m\n",
      "\u001b[94mℹ️ INFO: Focus initialized\u001b[0m\n",
      "\u001b[94mℹ️ INFO: written - ./example/fomchistorical2017.htm\u001b[0m\n",
      "[{'file': 'https://www.federalreserve.gov/monetarypolicy/fomchistorical2017.htm', 'path': './example/fomchistorical2017.htm'}]\n",
      "\u001b[96m☕️ WAIT: setting header with `.keys()`\u001b[0m\n",
      "\u001b[92m🌊 SUCCESS: headers detected as ['file', 'path'] from `.keys()`\u001b[0m\n",
      "\u001b[94mℹ️ INFO: created ./example/receipts.csv\u001b[0m\n",
      "\u001b[94mℹ️ INFO: timestamped - 2024-02-21 21:14:21.152437\u001b[0m\n",
      "\u001b[92m🌊 SUCCESS: 1 written to ./example/receipts.csv\u001b[0m\n"
     ]
    }
   ],
   "source": [
    "from tractor_beam import tractor\n",
    "auto = tractor.Beam('./example.repulse.json')\n",
    "run = auto.go()\n",
    "print(run)\n",
    "auto.destroy('example')"
   ]
  },
  {
   "cell_type": "code",
   "execution_count": 1,
   "id": "9a8fb48c",
   "metadata": {},
   "outputs": [
    {
     "name": "stdout",
     "output_type": "stream",
     "text": [
      "\u001b[92m🌊 SUCCESS: config set from - ./recurse.example.json\u001b[0m\n"
     ]
    },
    {
     "ename": "FileNotFoundError",
     "evalue": "[Errno 2] No such file or directory: '/Users/dylan/VSCode/LLM/tractor-beam.git/recurse_example'",
     "output_type": "error",
     "traceback": [
      "\u001b[0;31m---------------------------------------------------------------------------\u001b[0m",
      "\u001b[0;31mFileNotFoundError\u001b[0m                         Traceback (most recent call last)",
      "Cell \u001b[0;32mIn[1], line 3\u001b[0m\n\u001b[1;32m      1\u001b[0m \u001b[38;5;28;01mfrom\u001b[39;00m \u001b[38;5;21;01mtractor_beam\u001b[39;00m \u001b[38;5;28;01mimport\u001b[39;00m tractor\n\u001b[1;32m      2\u001b[0m auto \u001b[38;5;241m=\u001b[39m tractor\u001b[38;5;241m.\u001b[39mBeam(\u001b[38;5;124m'\u001b[39m\u001b[38;5;124m./recurse.example.json\u001b[39m\u001b[38;5;124m'\u001b[39m)\n\u001b[0;32m----> 3\u001b[0m run \u001b[38;5;241m=\u001b[39m \u001b[43mauto\u001b[49m\u001b[38;5;241;43m.\u001b[39;49m\u001b[43mgo\u001b[49m\u001b[43m(\u001b[49m\u001b[43m)\u001b[49m\n\u001b[1;32m      4\u001b[0m \u001b[38;5;28mprint\u001b[39m(run)\n\u001b[1;32m      5\u001b[0m auto\u001b[38;5;241m.\u001b[39mdestroy(\u001b[38;5;124m'\u001b[39m\u001b[38;5;124mrecurse_example\u001b[39m\u001b[38;5;124m'\u001b[39m)\n",
      "File \u001b[0;32m~/Projects/tractor-beam/tractor_beam/tractor.py:14\u001b[0m, in \u001b[0;36mBeam.go\u001b[0;34m(self)\u001b[0m\n\u001b[1;32m     12\u001b[0m \u001b[38;5;28;01mdef\u001b[39;00m \u001b[38;5;21mgo\u001b[39m(\u001b[38;5;28mself\u001b[39m):\n\u001b[1;32m     13\u001b[0m     \u001b[38;5;28mself\u001b[39m\u001b[38;5;241m.\u001b[39mconfig\u001b[38;5;241m.\u001b[39muse()\n\u001b[0;32m---> 14\u001b[0m     \u001b[38;5;28;43mself\u001b[39;49m\u001b[38;5;241;43m.\u001b[39;49m\u001b[43mconfig\u001b[49m\u001b[38;5;241;43m.\u001b[39;49m\u001b[43munbox\u001b[49m\u001b[43m(\u001b[49m\u001b[43m)\u001b[49m\n\u001b[1;32m     15\u001b[0m     _f(\u001b[38;5;124m'\u001b[39m\u001b[38;5;124mwait\u001b[39m\u001b[38;5;124m'\u001b[39m, \u001b[38;5;124mf\u001b[39m\u001b[38;5;124m'\u001b[39m\u001b[38;5;124mtractor beaming with \u001b[39m\u001b[38;5;124m\"\u001b[39m\u001b[38;5;132;01m{\u001b[39;00m\u001b[38;5;28mself\u001b[39m\u001b[38;5;241m.\u001b[39mconfig\u001b[38;5;241m.\u001b[39mconf[\u001b[38;5;124m\"\u001b[39m\u001b[38;5;124msettings\u001b[39m\u001b[38;5;124m\"\u001b[39m][\u001b[38;5;124m\"\u001b[39m\u001b[38;5;124mname\u001b[39m\u001b[38;5;124m\"\u001b[39m]\u001b[38;5;132;01m}\u001b[39;00m\u001b[38;5;124m\"\u001b[39m\u001b[38;5;124m'\u001b[39m)\n\u001b[1;32m     16\u001b[0m     copy \u001b[38;5;241m=\u001b[39m Abduct(\u001b[38;5;28mself\u001b[39m\u001b[38;5;241m.\u001b[39mconfig)\n",
      "File \u001b[0;32m~/Projects/tractor-beam/tractor_beam/utils/config.py:31\u001b[0m, in \u001b[0;36mConfig.unbox\u001b[0;34m(self, o)\u001b[0m\n\u001b[1;32m     29\u001b[0m     os\u001b[38;5;241m.\u001b[39mmkdir(proj_path)\n\u001b[1;32m     30\u001b[0m \u001b[38;5;28;01melif\u001b[39;00m \u001b[38;5;129;01mnot\u001b[39;00m check(proj_path):\n\u001b[0;32m---> 31\u001b[0m     \u001b[43mos\u001b[49m\u001b[38;5;241;43m.\u001b[39;49m\u001b[43mmkdir\u001b[49m\u001b[43m(\u001b[49m\u001b[43mproj_path\u001b[49m\u001b[43m)\u001b[49m\n\u001b[1;32m     32\u001b[0m \u001b[38;5;28;01melse\u001b[39;00m:\n\u001b[1;32m     33\u001b[0m     \u001b[38;5;28;01mreturn\u001b[39;00m _f(\u001b[38;5;124m'\u001b[39m\u001b[38;5;124mfatal\u001b[39m\u001b[38;5;124m'\u001b[39m,\u001b[38;5;124mf\u001b[39m\u001b[38;5;124m'\u001b[39m\u001b[38;5;124mexists - \u001b[39m\u001b[38;5;132;01m{\u001b[39;00mproj_path\u001b[38;5;132;01m}\u001b[39;00m\u001b[38;5;124m'\u001b[39m)\n",
      "\u001b[0;31mFileNotFoundError\u001b[0m: [Errno 2] No such file or directory: '/Users/dylan/VSCode/LLM/tractor-beam.git/recurse_example'"
     ]
    }
   ],
   "source": [
    "from tractor_beam import tractor\n",
    "auto = tractor.Beam('./recurse.example.json')\n",
    "run = auto.go()\n",
    "print(run)\n",
    "auto.destroy('recurse_example')"
   ]
  },
  {
   "cell_type": "code",
   "execution_count": null,
   "id": "2792d63d",
   "metadata": {},
   "outputs": [],
   "source": []
  }
 ],
 "metadata": {
  "kernelspec": {
   "display_name": "Python 3 (ipykernel)",
   "language": "python",
   "name": "python3"
  },
  "language_info": {
   "codemirror_mode": {
    "name": "ipython",
    "version": 3
   },
   "file_extension": ".py",
   "mimetype": "text/x-python",
   "name": "python",
   "nbconvert_exporter": "python",
   "pygments_lexer": "ipython3",
   "version": "3.0.0"
  }
 },
 "nbformat": 4,
 "nbformat_minor": 5
}
