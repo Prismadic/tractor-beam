{
 "cells": [
  {
   "cell_type": "code",
   "execution_count": 1,
   "id": "ca540024",
   "metadata": {},
   "outputs": [
    {
     "name": "stdout",
     "output_type": "stream",
     "text": [
      "\u001b[92m🌊 SUCCESS: config set from - ./example.json\u001b[0m\n",
      "\u001b[94mℹ️ INFO: config saved to - /Users/dylan/VSCode/LLM/tractor-beam.git/example\u001b[0m\n",
      "\u001b[92m🌊 SUCCESS: unboxed! 🛸📦 - /Users/dylan/VSCode/LLM/tractor-beam.git/example \u001b[0m\n",
      "\u001b[96m☕️ WAIT: tractor beaming with \"example\"\u001b[0m\n",
      "\u001b[94mℹ️ INFO: Abduct initialized\u001b[0m\n",
      "\u001b[94mℹ️ INFO: Records initialized\u001b[0m\n",
      "\u001b[94mℹ️ INFO: Focus initialized\u001b[0m\n",
      "\u001b[94mℹ️ INFO: written - /Users/dylan/VSCode/LLM/tractor-beam.git/example/fomchistorical2017.htm\u001b[0m\n",
      "[{'file': 'https://www.federalreserve.gov/monetarypolicy/fomchistorical2017.htm', 'path': '/Users/dylan/VSCode/LLM/tractor-beam.git/example/fomchistorical2017.htm'}]\n",
      "\u001b[96m☕️ WAIT: setting header with `.keys()`\u001b[0m\n",
      "\u001b[92m🌊 SUCCESS: headers detected as ['file', 'path'] from `.keys()`\u001b[0m\n",
      "\u001b[94mℹ️ INFO: created /Users/dylan/VSCode/LLM/tractor-beam.git/example/receipts.csv\u001b[0m\n",
      "\u001b[94mℹ️ INFO: timestamped - 2023-12-26 16:12:36.072021\u001b[0m\n",
      "\u001b[92m🌊 SUCCESS: 1 written to /Users/dylan/VSCode/LLM/tractor-beam.git/example/receipts.csv\u001b[0m\n",
      "\u001b[94mℹ️ INFO: written - /Users/dylan/VSCode/LLM/tractor-beam.git/example/fomchistorical2017_cleaned.txt\u001b[0m\n",
      "\u001b[92m🌊 SUCCESS: 🛸 done\u001b[0m\n",
      "{'config': <tractor_beam.utils.config.Config object at 0x1080f7150>, 'Abduct': <tractor_beam.clone.replicator.Abduct object at 0x107d27bd0>, 'Records': <tractor_beam.visits.sites.Records object at 0x1093674d0>, 'Focus': <tractor_beam.laser.purify.Focus object at 0x107e8f890>, 'data': [{'file': 'https://www.federalreserve.gov/monetarypolicy/fomchistorical2017.htm', 'path': '/Users/dylan/VSCode/LLM/tractor-beam.git/example/fomchistorical2017.htm', 'ts': datetime.datetime(2023, 12, 26, 16, 12, 36, 72021)}], 'status': 'complete'}\n",
      "\u001b[93m🚨 WARN: example destroyed\u001b[0m\n"
     ]
    }
   ],
   "source": [
    "from tractor_beam import tractor\n",
    "auto = tractor.Beam('./example.json')\n",
    "run = auto.go()\n",
    "print(run)\n",
    "auto.destroy('example')"
   ]
  },
  {
   "cell_type": "code",
   "execution_count": 2,
   "id": "9a8fb48c",
   "metadata": {},
   "outputs": [
    {
     "ename": "AttributeError",
     "evalue": "module 'tractor_beam.tractor' has no attribute 'tractor_beam'",
     "output_type": "error",
     "traceback": [
      "\u001b[0;31m---------------------------------------------------------------------------\u001b[0m",
      "\u001b[0;31mAttributeError\u001b[0m                            Traceback (most recent call last)",
      "Cell \u001b[0;32mIn[2], line 2\u001b[0m\n\u001b[1;32m      1\u001b[0m \u001b[38;5;28;01mfrom\u001b[39;00m \u001b[38;5;21;01mtractor_beam\u001b[39;00m \u001b[38;5;28;01mimport\u001b[39;00m tractor\n\u001b[0;32m----> 2\u001b[0m auto \u001b[38;5;241m=\u001b[39m \u001b[43mtractor\u001b[49m\u001b[38;5;241;43m.\u001b[39;49m\u001b[43mtractor_beam\u001b[49m(\u001b[38;5;124m'\u001b[39m\u001b[38;5;124m./recurse.example.json\u001b[39m\u001b[38;5;124m'\u001b[39m)\n\u001b[1;32m      3\u001b[0m run \u001b[38;5;241m=\u001b[39m auto\u001b[38;5;241m.\u001b[39mgo()\n\u001b[1;32m      4\u001b[0m \u001b[38;5;28mprint\u001b[39m(run)\n",
      "\u001b[0;31mAttributeError\u001b[0m: module 'tractor_beam.tractor' has no attribute 'tractor_beam'"
     ]
    }
   ],
   "source": [
    "from tractor_beam import tractor\n",
    "auto = tractor.Beam('./recurse.example.json')\n",
    "run = auto.go()\n",
    "print(run)\n",
    "auto.destroy('recurse_example')"
   ]
  },
  {
   "cell_type": "code",
   "execution_count": null,
   "id": "2792d63d",
   "metadata": {},
   "outputs": [],
   "source": []
  }
 ],
 "metadata": {
  "kernelspec": {
   "display_name": "Python 3 (ipykernel)",
   "language": "python",
   "name": "python3"
  },
  "language_info": {
   "codemirror_mode": {
    "name": "ipython",
    "version": 3
   },
   "file_extension": ".py",
   "mimetype": "text/x-python",
   "name": "python",
   "nbconvert_exporter": "python",
   "pygments_lexer": "ipython3",
   "version": "3.11.5"
  }
 },
 "nbformat": 4,
 "nbformat_minor": 5
}
