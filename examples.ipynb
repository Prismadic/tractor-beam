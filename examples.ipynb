{
 "cells": [
  {
   "cell_type": "code",
   "execution_count": null,
   "id": "ca540024",
   "metadata": {},
   "outputs": [],
   "source": [
    "from tractor_beam import tractor\n",
    "auto = tractor.Beam('./configs/example.json')\n",
    "run = auto.go()"
   ]
  },
  {
   "cell_type": "code",
   "execution_count": null,
   "id": "2792d63d",
   "metadata": {},
   "outputs": [],
   "source": [
    "from tractor_beam import tractor\n",
    "auto = tractor.Beam('./config.json')\n",
    "some_run = None\n",
    "def handle_run(run):\n",
    "    print(run[-1][\"Processor\"].state.data)\n",
    "run = await auto.go(cb=handle_run)"
   ]
  },
  {
   "cell_type": "code",
   "execution_count": null,
   "id": "40e20cb6",
   "metadata": {},
   "outputs": [],
   "source": []
  }
 ],
 "metadata": {
  "kernelspec": {
   "display_name": "3.11",
   "language": "python",
   "name": "python3"
  },
  "language_info": {
   "codemirror_mode": {
    "name": "ipython",
    "version": 3
   },
   "file_extension": ".py",
   "mimetype": "text/x-python",
   "name": "python",
   "nbconvert_exporter": "python",
   "pygments_lexer": "ipython3",
   "version": "3.11.10"
  }
 },
 "nbformat": 4,
 "nbformat_minor": 5
}
