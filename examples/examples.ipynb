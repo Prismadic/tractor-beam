{
 "cells": [
  {
   "cell_type": "code",
   "execution_count": 1,
   "id": "ca540024",
   "metadata": {},
   "outputs": [
    {
     "name": "stdout",
     "output_type": "stream",
     "text": [
      "\u001b[92m🌊 SUCCESS: Config loaded from - example\u001b[0m\n",
      "\u001b[91m☠️ FATAL: Exists - ./example\u001b[0m\n",
      "\u001b[96m☕️ WAIT: tractor beaming with \"example\" project\u001b[0m\n",
      "\u001b[94mℹ️ INFO: starting 1 jobs allocating 10.0% CPU total\u001b[0m\n",
      "\u001b[93m🚨 WARN: Error retrieving CPU frequency: [Errno 2] No such file or directory (originated from sysctl(HW_CPU_FREQ))\u001b[0m\n",
      "\u001b[94mℹ️ INFO: Abduct initialized\n",
      "AbductState(conf=Schema(role='server', settings=<tractor_beam.utils.config.Settings object at 0x1104e38d0>), job=Job(url='https://www.federalreserve.gov/monetarypolicy/fomchistorical2017.htm', types=[], beacon=None, delay=None, custom=[{'func': '', 'headers': None, 'types': ['']}]), data=[])\u001b[0m\n",
      "\u001b[94mℹ️ INFO: running job:\n",
      "Job(url='https://www.federalreserve.gov/monetarypolicy/fomchistorical2017.htm', types=[], beacon=None, delay=None, custom=[{'func': '', 'headers': None, 'types': ['']}])\u001b[0m\n",
      "\u001b[94mℹ️ INFO: written - ./example/fomchistorical2017.htm\u001b[0m\n",
      "\u001b[92m🌊 SUCCESS: 1 downloaded\u001b[0m\n",
      "\u001b[94mℹ️ INFO: Visit initialized\n",
      "VisitState(conf=Schema(role='server', settings=<tractor_beam.utils.config.Settings object at 0x1104e38d0>), job=Job(url='https://www.federalreserve.gov/monetarypolicy/fomchistorical2017.htm', types=[], beacon=None, delay=None, custom=[{'func': '', 'headers': None, 'types': ['']}]), data=[])\u001b[0m\n",
      "\u001b[93m🚨 WARN: ./example exists\u001b[0m\n",
      "[]\n",
      "\u001b[92m🌊 SUCCESS: 0 written to ./example/visit.csv\u001b[0m\n",
      "VisitState(conf=Schema(role='server', settings=<tractor_beam.utils.config.Settings object at 0x1104e38d0>), job=Job(url='https://www.federalreserve.gov/monetarypolicy/fomchistorical2017.htm', types=[], beacon=None, delay=None, custom=[{'func': '', 'headers': None, 'types': ['']}]), data=[])\n",
      "\u001b[92m🌊 SUCCESS: processed ./example/fomchistorical2017.htm to ./example/fomchistorical2017_converted.md\u001b[0m\n",
      "\u001b[92m🌊 SUCCESS: 🛸 done\u001b[0m\n"
     ]
    }
   ],
   "source": [
    "from tractor_beam import tractor\n",
    "auto = tractor.Beam('./configs/example.json')\n",
    "run = auto.go()"
   ]
  },
  {
   "cell_type": "code",
   "execution_count": 1,
   "id": "2792d63d",
   "metadata": {},
   "outputs": [
    {
     "name": "stdout",
     "output_type": "stream",
     "text": [
      "\u001b[92m🌊 SUCCESS: Config loaded from - edgar\u001b[0m\n",
      "\u001b[92m🌊 SUCCESS: Unboxed! 🛸📦 - ./edgar\u001b[0m\n",
      "\u001b[94mℹ️ INFO: Config saved to - ./edgar/config.json\u001b[0m\n",
      "\u001b[96m☕️ WAIT: tractor beaming with \"edgar\" project\u001b[0m\n",
      "\u001b[94mℹ️ INFO: starting 1 jobs allocating 10.0% CPU total\u001b[0m\n",
      "\u001b[93m🚨 WARN: watching with 5.1 delay\u001b[0m\n",
      "\u001b[93m🚨 WARN: Error retrieving CPU frequency: [Errno 2] No such file or directory (originated from sysctl(HW_CPU_FREQ))\u001b[0m\n",
      "\u001b[94mℹ️ INFO: Abduct initialized\n",
      "AbductState(conf=Schema(role='watcher', settings=<tractor_beam.utils.config.Settings object at 0x124756510>), job=Job(url='https://www.sec.gov/cgi-bin/browse-edgar?action=getcurrent&CIK=&type=&company=&dateb=&owner=include&start=0&count=1000&output=atom', types=['htm', 'xml', 'pdf', 'jpg', 'png', 'csv'], beacon='edgar', delay=5.1, custom={'func': '', 'headers': {'User-Agent': 'Paganda Group, LLC. alloydylan@icloud.com'}, 'types': []}), data=[])\u001b[0m\n",
      "\u001b[94mℹ️ INFO: running job:\n",
      "Job(url='https://www.sec.gov/cgi-bin/browse-edgar?action=getcurrent&CIK=&type=&company=&dateb=&owner=include&start=0&count=1000&output=atom', types=['htm', 'xml', 'pdf', 'jpg', 'png', 'csv'], beacon='edgar', delay=5.1, custom={'func': '', 'headers': {'User-Agent': 'Paganda Group, LLC. alloydylan@icloud.com'}, 'types': []})\u001b[0m\n",
      "\u001b[92m🌊 SUCCESS: loaded BEACON[edgar].Stream 🏦\u001b[0m\n",
      "\u001b[96m☕️ WAIT: BEACON[edgar].Stream 🏦 processing SEC filings\u001b[0m\n"
     ]
    },
    {
     "name": "stderr",
     "output_type": "stream",
     "text": [
      "100%|\u001b[35m██████████\u001b[0m| 100/100 [00:39<00:00,  2.55it/s, filing attachments=2]\n"
     ]
    },
    {
     "name": "stdout",
     "output_type": "stream",
     "text": [
      "\u001b[94mℹ️ INFO: written - ./edgar/8-K - JPMCC Commercial Mortgage Securities Trust 2016-JP4 (0001689111) (Filer)/8-K - JPMCC Commercial Mortgage Securities Trust 2016-JP4 (0001689111) (Filer)_jpc16jp4_8k-03152024.htm\u001b[0m\n",
      "\u001b[94mℹ️ INFO: written - ./edgar/8-K - VILLAGE SUPER MARKET INC (0000103595) (Filer)/8-K - VILLAGE SUPER MARKET INC (0000103595) (Filer)_vlgea-20240315.htm\u001b[0m\n",
      "\u001b[94mℹ️ INFO: written - ./edgar/8-K - VILLAGE SUPER MARKET INC (0000103595) (Filer)/8-K - VILLAGE SUPER MARKET INC (0000103595) (Filer)_vlgea-20240315ex99x1.htm\u001b[0m\n",
      "\u001b[94mℹ️ INFO: written - ./edgar/8-K - VILLAGE SUPER MARKET INC (0000103595) (Filer)/8-K - VILLAGE SUPER MARKET INC (0000103595) (Filer)_vlgea-20240315_lab.xml\u001b[0m\n",
      "\u001b[94mℹ️ INFO: written - ./edgar/8-K - VILLAGE SUPER MARKET INC (0000103595) (Filer)/8-K - VILLAGE SUPER MARKET INC (0000103595) (Filer)_vlgea-20240315_pre.xml\u001b[0m\n",
      "\u001b[94mℹ️ INFO: written - ./edgar/8-K - VILLAGE SUPER MARKET INC (0000103595) (Filer)/8-K - VILLAGE SUPER MARKET INC (0000103595) (Filer)_vlgea-20240315_htm.xml\u001b[0m\n",
      "\u001b[94mℹ️ INFO: written - ./edgar/8-K - YOUNEEQAI TECHNICAL SERVICES, INC. (0001976923) (Filer)/8-K - YOUNEEQAI TECHNICAL SERVICES, INC. (0001976923) (Filer)_youneeq8kmarch152024.htm\u001b[0m\n",
      "\u001b[94mℹ️ INFO: written - ./edgar/8-K - YOUNEEQAI TECHNICAL SERVICES, INC. (0001976923) (Filer)/8-K - YOUNEEQAI TECHNICAL SERVICES, INC. (0001976923) (Filer)_ex10_1.htm\u001b[0m\n",
      "\u001b[94mℹ️ INFO: written - ./edgar/8-K - YOUNEEQAI TECHNICAL SERVICES, INC. (0001976923) (Filer)/8-K - YOUNEEQAI TECHNICAL SERVICES, INC. (0001976923) (Filer)_ex10_2.htm\u001b[0m\n",
      "\u001b[94mℹ️ INFO: written - ./edgar/8-K - DAVEY TREE EXPERT CO (0000277638) (Filer)/8-K - DAVEY TREE EXPERT CO (0000277638) (Filer)_davey-20240308.htm\u001b[0m\n",
      "\u001b[94mℹ️ INFO: written - ./edgar/8-K - DAVEY TREE EXPERT CO (0000277638) (Filer)/8-K - DAVEY TREE EXPERT CO (0000277638) (Filer)_davey-20240308_g1.jpg\u001b[0m\n",
      "\u001b[94mℹ️ INFO: written - ./edgar/8-K - DAVEY TREE EXPERT CO (0000277638) (Filer)/8-K - DAVEY TREE EXPERT CO (0000277638) (Filer)_davey-20240308_lab.xml\u001b[0m\n",
      "\u001b[94mℹ️ INFO: written - ./edgar/8-K - DAVEY TREE EXPERT CO (0000277638) (Filer)/8-K - DAVEY TREE EXPERT CO (0000277638) (Filer)_davey-20240308_pre.xml\u001b[0m\n",
      "\u001b[94mℹ️ INFO: written - ./edgar/8-K - DAVEY TREE EXPERT CO (0000277638) (Filer)/8-K - DAVEY TREE EXPERT CO (0000277638) (Filer)_davey-20240308_htm.xml\u001b[0m\n",
      "\u001b[94mℹ️ INFO: written - ./edgar/497K - MORGAN STANLEY INSTITUTIONAL LIQUIDITY FUNDS (0001227155) (Filer)/497K - MORGAN STANLEY INSTITUTIONAL LIQUIDITY FUNDS (0001227155) (Filer)_a24-8705_3497k.htm\u001b[0m\n",
      "\u001b[94mℹ️ INFO: written - ./edgar/3 - Nichols Brian W (0002014240) (Reporting)/3 - Nichols Brian W (0002014240) (Reporting)_ownership.xml\u001b[0m\n",
      "\u001b[94mℹ️ INFO: written - ./edgar/3 - Nichols Brian W (0002014240) (Reporting)/3 - Nichols Brian W (0002014240) (Reporting)_kr-ex24.htm\u001b[0m\n",
      "\u001b[94mℹ️ INFO: written - ./edgar/497K - MORGAN STANLEY INSTITUTIONAL LIQUIDITY FUNDS (0001227155) (Filer)/497K - MORGAN STANLEY INSTITUTIONAL LIQUIDITY FUNDS (0001227155) (Filer)_a24-8705_2497k.htm\u001b[0m\n",
      "\u001b[94mℹ️ INFO: written - ./edgar/3 - KROGER CO (0000056873) (Issuer)/3 - KROGER CO (0000056873) (Issuer)_ownership.xml\u001b[0m\n",
      "\u001b[94mℹ️ INFO: written - ./edgar/3 - KROGER CO (0000056873) (Issuer)/3 - KROGER CO (0000056873) (Issuer)_kr-ex24.htm\u001b[0m\n",
      "\u001b[94mℹ️ INFO: written - ./edgar/N-CEN - MERRILL LYNCH FUND OF STRIPPED ZERO U S TREA SEC SER A (0000740833) (Filer)/N-CEN - MERRILL LYNCH FUND OF STRIPPED ZERO U S TREA SEC SER A (0000740833) (Filer)_primary_doc.xml\u001b[0m\n",
      "\u001b[94mℹ️ INFO: written - ./edgar/424B2 - Morgan Stanley Finance LLC (0001666268) (Filer)/424B2 - Morgan Stanley Finance LLC (0001666268) (Filer)_ms1461_424b2-04954.htm\u001b[0m\n",
      "\u001b[94mℹ️ INFO: written - ./edgar/424B2 - MORGAN STANLEY (0000895421) (Filer)/424B2 - MORGAN STANLEY (0000895421) (Filer)_ms1461_424b2-04954.htm\u001b[0m\n",
      "\u001b[94mℹ️ INFO: written - ./edgar/D/A - BlueArc Merger Arbitrage Fund (QP) (TE Onshore), a series of BlueArc Global Alternatives, LLC (0001888802) (Filer)/D_A - BlueArc Merger Arbitrage Fund (QP) (TE Onshore), a series of BlueArc Global Alternatives, LLC (0001888802) (Filer)_primary_doc.xml\u001b[0m\n",
      "\u001b[94mℹ️ INFO: written - ./edgar/497 - MORGAN STANLEY INSTITUTIONAL LIQUIDITY FUNDS (0001227155) (Filer)/497 - MORGAN STANLEY INSTITUTIONAL LIQUIDITY FUNDS (0001227155) (Filer)_a24-8705_1497.htm\u001b[0m\n",
      "\u001b[94mℹ️ INFO: written - ./edgar/8-K - JPMDB Commercial Mortgage Securities Trust 2016-C4 (0001687202) (Filer)/8-K - JPMDB Commercial Mortgage Securities Trust 2016-C4 (0001687202) (Filer)_jpc16c04_8k-03152024.htm\u001b[0m\n",
      "\u001b[94mℹ️ INFO: written - ./edgar/4 - Knauss Jeffery J (0001900543) (Reporting)/4 - Knauss Jeffery J (0001900543) (Reporting)_form4.xml\u001b[0m\n",
      "\u001b[94mℹ️ INFO: written - ./edgar/4 - COMMUNITY BANK SYSTEM, INC. (0000723188) (Issuer)/4 - COMMUNITY BANK SYSTEM, INC. (0000723188) (Issuer)_form4.xml\u001b[0m\n",
      "\u001b[94mℹ️ INFO: written - ./edgar/D/A - Osprey Silvermine NFT Fund LP (0001916458) (Filer)/D_A - Osprey Silvermine NFT Fund LP (0001916458) (Filer)_primary_doc.xml\u001b[0m\n",
      "\u001b[94mℹ️ INFO: written - ./edgar/424B2 - BofA Finance LLC (0001682472) (Filer)/424B2 - BofA Finance LLC (0001682472) (Filer)_form424b2.htm\u001b[0m\n",
      "\u001b[94mℹ️ INFO: written - ./edgar/424B2 - BofA Finance LLC (0001682472) (Filer)/424B2 - BofA Finance LLC (0001682472) (Filer)_image_cover.jpg\u001b[0m\n",
      "\u001b[94mℹ️ INFO: written - ./edgar/424B2 - BofA Finance LLC (0001682472) (Filer)/424B2 - BofA Finance LLC (0001682472) (Filer)_image_002.jpg\u001b[0m\n",
      "\u001b[94mℹ️ INFO: written - ./edgar/424B2 - BofA Finance LLC (0001682472) (Filer)/424B2 - BofA Finance LLC (0001682472) (Filer)_image_003.jpg\u001b[0m\n",
      "\u001b[94mℹ️ INFO: written - ./edgar/424B2 - BofA Finance LLC (0001682472) (Filer)/424B2 - BofA Finance LLC (0001682472) (Filer)_image_004.jpg\u001b[0m\n",
      "\u001b[94mℹ️ INFO: written - ./edgar/424B2 - BofA Finance LLC (0001682472) (Filer)/424B2 - BofA Finance LLC (0001682472) (Filer)_image_005.jpg\u001b[0m\n",
      "\u001b[94mℹ️ INFO: written - ./edgar/424B2 - BofA Finance LLC (0001682472) (Filer)/424B2 - BofA Finance LLC (0001682472) (Filer)_image_gt1.jpg\u001b[0m\n",
      "\u001b[94mℹ️ INFO: written - ./edgar/424B2 - BofA Finance LLC (0001682472) (Filer)/424B2 - BofA Finance LLC (0001682472) (Filer)_image_gt2.jpg\u001b[0m\n",
      "\u001b[94mℹ️ INFO: written - ./edgar/424B2 - BofA Finance LLC (0001682472) (Filer)/424B2 - BofA Finance LLC (0001682472) (Filer)_image_009.jpg\u001b[0m\n",
      "\u001b[94mℹ️ INFO: written - ./edgar/424B2 - BofA Finance LLC (0001682472) (Filer)/424B2 - BofA Finance LLC (0001682472) (Filer)_image_010.jpg\u001b[0m\n",
      "\u001b[94mℹ️ INFO: written - ./edgar/424B2 - BofA Finance LLC (0001682472) (Filer)/424B2 - BofA Finance LLC (0001682472) (Filer)_image_011.jpg\u001b[0m\n",
      "\u001b[94mℹ️ INFO: written - ./edgar/424B2 - BofA Finance LLC (0001682472) (Filer)/424B2 - BofA Finance LLC (0001682472) (Filer)_image_012.jpg\u001b[0m\n",
      "\u001b[94mℹ️ INFO: written - ./edgar/424B2 - BANK OF AMERICA CORP /DE/ (0000070858) (Filer)/424B2 - BANK OF AMERICA CORP _DE_ (0000070858) (Filer)_form424b2.htm\u001b[0m\n",
      "\u001b[94mℹ️ INFO: written - ./edgar/424B2 - BANK OF AMERICA CORP /DE/ (0000070858) (Filer)/424B2 - BANK OF AMERICA CORP _DE_ (0000070858) (Filer)_image_cover.jpg\u001b[0m\n",
      "\u001b[94mℹ️ INFO: written - ./edgar/424B2 - BANK OF AMERICA CORP /DE/ (0000070858) (Filer)/424B2 - BANK OF AMERICA CORP _DE_ (0000070858) (Filer)_image_002.jpg\u001b[0m\n",
      "\u001b[94mℹ️ INFO: written - ./edgar/424B2 - BANK OF AMERICA CORP /DE/ (0000070858) (Filer)/424B2 - BANK OF AMERICA CORP _DE_ (0000070858) (Filer)_image_003.jpg\u001b[0m\n",
      "\u001b[94mℹ️ INFO: written - ./edgar/424B2 - BANK OF AMERICA CORP /DE/ (0000070858) (Filer)/424B2 - BANK OF AMERICA CORP _DE_ (0000070858) (Filer)_image_004.jpg\u001b[0m\n",
      "\u001b[94mℹ️ INFO: written - ./edgar/424B2 - BANK OF AMERICA CORP /DE/ (0000070858) (Filer)/424B2 - BANK OF AMERICA CORP _DE_ (0000070858) (Filer)_image_005.jpg\u001b[0m\n",
      "\u001b[94mℹ️ INFO: written - ./edgar/424B2 - BANK OF AMERICA CORP /DE/ (0000070858) (Filer)/424B2 - BANK OF AMERICA CORP _DE_ (0000070858) (Filer)_image_gt1.jpg\u001b[0m\n",
      "\u001b[94mℹ️ INFO: written - ./edgar/424B2 - BANK OF AMERICA CORP /DE/ (0000070858) (Filer)/424B2 - BANK OF AMERICA CORP _DE_ (0000070858) (Filer)_image_gt2.jpg\u001b[0m\n",
      "\u001b[94mℹ️ INFO: written - ./edgar/424B2 - BANK OF AMERICA CORP /DE/ (0000070858) (Filer)/424B2 - BANK OF AMERICA CORP _DE_ (0000070858) (Filer)_image_009.jpg\u001b[0m\n",
      "\u001b[94mℹ️ INFO: written - ./edgar/424B2 - BANK OF AMERICA CORP /DE/ (0000070858) (Filer)/424B2 - BANK OF AMERICA CORP _DE_ (0000070858) (Filer)_image_010.jpg\u001b[0m\n",
      "\u001b[94mℹ️ INFO: written - ./edgar/424B2 - BANK OF AMERICA CORP /DE/ (0000070858) (Filer)/424B2 - BANK OF AMERICA CORP _DE_ (0000070858) (Filer)_image_011.jpg\u001b[0m\n",
      "\u001b[94mℹ️ INFO: written - ./edgar/424B2 - BANK OF AMERICA CORP /DE/ (0000070858) (Filer)/424B2 - BANK OF AMERICA CORP _DE_ (0000070858) (Filer)_image_012.jpg\u001b[0m\n",
      "\u001b[94mℹ️ INFO: written - ./edgar/424B2 - MORGAN STANLEY (0000895421) (Filer)/424B2 - MORGAN STANLEY (0000895421) (Filer)_dp208441_424b2-ps1467.htm\u001b[0m\n",
      "\u001b[94mℹ️ INFO: written - ./edgar/424B2 - MORGAN STANLEY (0000895421) (Filer)/424B2 - MORGAN STANLEY (0000895421) (Filer)_image_001.jpg\u001b[0m\n",
      "\u001b[94mℹ️ INFO: written - ./edgar/424B2 - MORGAN STANLEY (0000895421) (Filer)/424B2 - MORGAN STANLEY (0000895421) (Filer)_image_002.jpg\u001b[0m\n",
      "\u001b[94mℹ️ INFO: written - ./edgar/144 - Adelman Julie (0001909030) (Reporting)/144 - Adelman Julie (0001909030) (Reporting)_primary_doc.xml\u001b[0m\n",
      "\u001b[94mℹ️ INFO: written - ./edgar/144 - NUSCALE POWER Corp (0001822966) (Subject)/144 - NUSCALE POWER Corp (0001822966) (Subject)_primary_doc.xml\u001b[0m\n",
      "\u001b[94mℹ️ INFO: written - ./edgar/D/A - BlueArc Merger Arbitrage Fund (QP), a series of BlueArc Global Alternatives, LLC (0001888804) (Filer)/D_A - BlueArc Merger Arbitrage Fund (QP), a series of BlueArc Global Alternatives, LLC (0001888804) (Filer)_primary_doc.xml\u001b[0m\n",
      "\u001b[94mℹ️ INFO: written - ./edgar/8-K - JPMCC Commercial Mortgage Securities Trust 2016-JP3 (0001683300) (Filer)/8-K - JPMCC Commercial Mortgage Securities Trust 2016-JP3 (0001683300) (Filer)_jpc16jp3_8k-03152024.htm\u001b[0m\n",
      "\u001b[94mℹ️ INFO: written - ./edgar/144 - Khatibi Alex A (0001511942) (Reporting)/144 - Khatibi Alex A (0001511942) (Reporting)_primary_doc.xml\u001b[0m\n",
      "\u001b[94mℹ️ INFO: written - ./edgar/144 - AIR LEASE CORP (0001487712) (Subject)/144 - AIR LEASE CORP (0001487712) (Subject)_primary_doc.xml\u001b[0m\n",
      "\u001b[94mℹ️ INFO: written - ./edgar/4 - Work Christopher Codington (0001556913) (Reporting)/4 - Work Christopher Codington (0001556913) (Reporting)_primarydocument.xml\u001b[0m\n",
      "\u001b[94mℹ️ INFO: written - ./edgar/4 - Zumiez Inc (0001318008) (Issuer)/4 - Zumiez Inc (0001318008) (Issuer)_primarydocument.xml\u001b[0m\n",
      "\u001b[94mℹ️ INFO: written - ./edgar/4 - Visser Chris K. (0001560344) (Reporting)/4 - Visser Chris K. (0001560344) (Reporting)_primarydocument.xml\u001b[0m\n",
      "\u001b[93m🚨 WARN: File exists at ./edgar/4 - Zumiez Inc (0001318008) (Issuer)/4 - Zumiez Inc (0001318008) (Issuer)_primarydocument.xml, and overwrite is disabled. Skipping download.\u001b[0m\n",
      "\u001b[94mℹ️ INFO: written - ./edgar/10-D - AMERICAN EXPRESS RECEIVABLES FINANCING CORP III LLC (0001283434) (Filer)/10-D - AMERICAN EXPRESS RECEIVABLES FINANCING CORP III LLC (0001283434) (Filer)_d710811d10d.htm\u001b[0m\n",
      "\u001b[94mℹ️ INFO: written - ./edgar/10-D - AMERICAN EXPRESS RECEIVABLES FINANCING CORP III LLC (0001283434) (Filer)/10-D - AMERICAN EXPRESS RECEIVABLES FINANCING CORP III LLC (0001283434) (Filer)_d710811dex9901.htm\u001b[0m\n",
      "\u001b[94mℹ️ INFO: written - ./edgar/10-D - AMERICAN EXPRESS CREDIT ACCOUNT MASTER TRUST (0001003509) (Filer)/10-D - AMERICAN EXPRESS CREDIT ACCOUNT MASTER TRUST (0001003509) (Filer)_d710811d10d.htm\u001b[0m\n",
      "\u001b[94mℹ️ INFO: written - ./edgar/10-D - AMERICAN EXPRESS CREDIT ACCOUNT MASTER TRUST (0001003509) (Filer)/10-D - AMERICAN EXPRESS CREDIT ACCOUNT MASTER TRUST (0001003509) (Filer)_d710811dex9901.htm\u001b[0m\n",
      "\u001b[94mℹ️ INFO: written - ./edgar/424B2 - Morgan Stanley Finance LLC (0001666268) (Filer)/424B2 - Morgan Stanley Finance LLC (0001666268) (Filer)_ms1463_424b2-04952.htm\u001b[0m\n",
      "\u001b[94mℹ️ INFO: written - ./edgar/424B2 - MORGAN STANLEY (0000895421) (Filer)/424B2 - MORGAN STANLEY (0000895421) (Filer)_ms1463_424b2-04952.htm\u001b[0m\n",
      "\u001b[94mℹ️ INFO: written - ./edgar/N-CEN - Community Development Fund (0001649227) (Filer)/N-CEN - Community Development Fund (0001649227) (Filer)_primary_doc.xml\u001b[0m\n",
      "\u001b[94mℹ️ INFO: written - ./edgar/D/A - Quantitative Equities Series of BlueArc Alternatives Fund, LLC (0001686919) (Filer)/D_A - Quantitative Equities Series of BlueArc Alternatives Fund, LLC (0001686919) (Filer)_primary_doc.xml\u001b[0m\n",
      "\u001b[94mℹ️ INFO: written - ./edgar/N-CEN - DEFINED ASSET FUNDS EQUITY INCOME FD UTILITY COM STK SER 1 (0000313358) (Filer)/N-CEN - DEFINED ASSET FUNDS EQUITY INCOME FD UTILITY COM STK SER 1 (0000313358) (Filer)_primary_doc.xml\u001b[0m\n",
      "\u001b[94mℹ️ INFO: written - ./edgar/24F-2NT - NEW YORK LIFE INS & ANNUITY CORP VAR UNIV LIFE SEP ACC I (0000906982) (Filer)/24F-2NT - NEW YORK LIFE INS & ANNUITY CORP VAR UNIV LIFE SEP ACC I (0000906982) (Filer)_primary_doc.xml\u001b[0m\n",
      "\u001b[93m🚨 WARN: File exists at ./edgar/24F-2NT - NEW YORK LIFE INS & ANNUITY CORP VAR UNIV LIFE SEP ACC I (0000906982) (Filer)/24F-2NT - NEW YORK LIFE INS & ANNUITY CORP VAR UNIV LIFE SEP ACC I (0000906982) (Filer)_primary_doc.xml, and overwrite is disabled. Skipping download.\u001b[0m\n",
      "\u001b[93m🚨 WARN: File exists at ./edgar/24F-2NT - NEW YORK LIFE INS & ANNUITY CORP VAR UNIV LIFE SEP ACC I (0000906982) (Filer)/24F-2NT - NEW YORK LIFE INS & ANNUITY CORP VAR UNIV LIFE SEP ACC I (0000906982) (Filer)_primary_doc.xml, and overwrite is disabled. Skipping download.\u001b[0m\n",
      "\u001b[93m🚨 WARN: File exists at ./edgar/24F-2NT - NEW YORK LIFE INS & ANNUITY CORP VAR UNIV LIFE SEP ACC I (0000906982) (Filer)/24F-2NT - NEW YORK LIFE INS & ANNUITY CORP VAR UNIV LIFE SEP ACC I (0000906982) (Filer)_primary_doc.xml, and overwrite is disabled. Skipping download.\u001b[0m\n",
      "\u001b[93m🚨 WARN: File exists at ./edgar/24F-2NT - NEW YORK LIFE INS & ANNUITY CORP VAR UNIV LIFE SEP ACC I (0000906982) (Filer)/24F-2NT - NEW YORK LIFE INS & ANNUITY CORP VAR UNIV LIFE SEP ACC I (0000906982) (Filer)_primary_doc.xml, and overwrite is disabled. Skipping download.\u001b[0m\n",
      "\u001b[93m🚨 WARN: File exists at ./edgar/24F-2NT - NEW YORK LIFE INS & ANNUITY CORP VAR UNIV LIFE SEP ACC I (0000906982) (Filer)/24F-2NT - NEW YORK LIFE INS & ANNUITY CORP VAR UNIV LIFE SEP ACC I (0000906982) (Filer)_primary_doc.xml, and overwrite is disabled. Skipping download.\u001b[0m\n",
      "\u001b[93m🚨 WARN: File exists at ./edgar/24F-2NT - NEW YORK LIFE INS & ANNUITY CORP VAR UNIV LIFE SEP ACC I (0000906982) (Filer)/24F-2NT - NEW YORK LIFE INS & ANNUITY CORP VAR UNIV LIFE SEP ACC I (0000906982) (Filer)_primary_doc.xml, and overwrite is disabled. Skipping download.\u001b[0m\n",
      "\u001b[93m🚨 WARN: File exists at ./edgar/24F-2NT - NEW YORK LIFE INS & ANNUITY CORP VAR UNIV LIFE SEP ACC I (0000906982) (Filer)/24F-2NT - NEW YORK LIFE INS & ANNUITY CORP VAR UNIV LIFE SEP ACC I (0000906982) (Filer)_primary_doc.xml, and overwrite is disabled. Skipping download.\u001b[0m\n",
      "\u001b[93m🚨 WARN: File exists at ./edgar/24F-2NT - NEW YORK LIFE INS & ANNUITY CORP VAR UNIV LIFE SEP ACC I (0000906982) (Filer)/24F-2NT - NEW YORK LIFE INS & ANNUITY CORP VAR UNIV LIFE SEP ACC I (0000906982) (Filer)_primary_doc.xml, and overwrite is disabled. Skipping download.\u001b[0m\n",
      "\u001b[93m🚨 WARN: File exists at ./edgar/24F-2NT - NEW YORK LIFE INS & ANNUITY CORP VAR UNIV LIFE SEP ACC I (0000906982) (Filer)/24F-2NT - NEW YORK LIFE INS & ANNUITY CORP VAR UNIV LIFE SEP ACC I (0000906982) (Filer)_primary_doc.xml, and overwrite is disabled. Skipping download.\u001b[0m\n",
      "\u001b[93m🚨 WARN: File exists at ./edgar/24F-2NT - NEW YORK LIFE INS & ANNUITY CORP VAR UNIV LIFE SEP ACC I (0000906982) (Filer)/24F-2NT - NEW YORK LIFE INS & ANNUITY CORP VAR UNIV LIFE SEP ACC I (0000906982) (Filer)_primary_doc.xml, and overwrite is disabled. Skipping download.\u001b[0m\n",
      "\u001b[93m🚨 WARN: File exists at ./edgar/24F-2NT - NEW YORK LIFE INS & ANNUITY CORP VAR UNIV LIFE SEP ACC I (0000906982) (Filer)/24F-2NT - NEW YORK LIFE INS & ANNUITY CORP VAR UNIV LIFE SEP ACC I (0000906982) (Filer)_primary_doc.xml, and overwrite is disabled. Skipping download.\u001b[0m\n",
      "\u001b[94mℹ️ INFO: written - ./edgar/D - Tempo Therapeutics, Inc. (0001813688) (Filer)/D - Tempo Therapeutics, Inc. (0001813688) (Filer)_primary_doc.xml\u001b[0m\n",
      "\u001b[94mℹ️ INFO: written - ./edgar/8-K - FEDERAL HOME LOAN MORTGAGE CORP (0001026214) (Filer)/8-K - FEDERAL HOME LOAN MORTGAGE CORP (0001026214) (Filer)_fmcc-20240315.htm\u001b[0m\n",
      "\u001b[94mℹ️ INFO: written - ./edgar/8-K - FEDERAL HOME LOAN MORTGAGE CORP (0001026214) (Filer)/8-K - FEDERAL HOME LOAN MORTGAGE CORP (0001026214) (Filer)_fmcc-20240315_lab.xml\u001b[0m\n",
      "\u001b[94mℹ️ INFO: written - ./edgar/8-K - FEDERAL HOME LOAN MORTGAGE CORP (0001026214) (Filer)/8-K - FEDERAL HOME LOAN MORTGAGE CORP (0001026214) (Filer)_fmcc-20240315_pre.xml\u001b[0m\n",
      "\u001b[94mℹ️ INFO: written - ./edgar/8-K - FEDERAL HOME LOAN MORTGAGE CORP (0001026214) (Filer)/8-K - FEDERAL HOME LOAN MORTGAGE CORP (0001026214) (Filer)_fmcc-20240315_htm.xml\u001b[0m\n",
      "\u001b[94mℹ️ INFO: written - ./edgar/4 - Wakefield Stephen E (0001757894) (Reporting)/4 - Wakefield Stephen E (0001757894) (Reporting)_wk-form4_1710519856.xml\u001b[0m\n",
      "\u001b[94mℹ️ INFO: written - ./edgar/4 - AAON, INC. (0000824142) (Issuer)/4 - AAON, INC. (0000824142) (Issuer)_wk-form4_1710519856.xml\u001b[0m\n",
      "\u001b[94mℹ️ INFO: written - ./edgar/D/A - BlueArc Quantitative Equity Series (TE), Ltd. (0001694339) (Filer)/D_A - BlueArc Quantitative Equity Series (TE), Ltd. (0001694339) (Filer)_primary_doc.xml\u001b[0m\n",
      "\u001b[94mℹ️ INFO: written - ./edgar/D - Setpoint Technologies Inc. (0001956104) (Filer)/D - Setpoint Technologies Inc. (0001956104) (Filer)_primary_doc.xml\u001b[0m\n"
     ]
    }
   ],
   "source": [
    "from tractor_beam import tractor\n",
    "auto = tractor.Beam('./configs/example.watcher.edgar.json')\n",
    "run = auto.go()"
   ]
  },
  {
   "cell_type": "code",
   "execution_count": null,
   "id": "0597ec3f",
   "metadata": {},
   "outputs": [
    {
     "name": "stdout",
     "output_type": "stream",
     "text": [
      "{'config': <tractor_beam.utils.config.Config object at 0x104543690>, 'Abduct': <tractor_beam.abduct.abduct.Abduct object at 0x105d19410>, 'Visits': <tractor_beam.visits.visit.Visit object at 0x105d19f10>, 'Focus': <tractor_beam.laser.focus.Focus object at 0x105d19650>, 'data': [<tractor_beam.utils.quantum.BeamState object at 0x1042f7c10>, <tractor_beam.utils.quantum.BeamState object at 0x1042f7c10>, <tractor_beam.utils.quantum.BeamState object at 0x1042f7c10>], 'status': 'complete'}\n",
      "[[{'file': 'https://www.federalreserve.gov/monetarypolicy/fomchistorical2017.htm', 'path': '/Users/dylan/VSCode/Prismadic/tractor-beam.git/example/fomchistorical2017.htm', 'cleaned': '/Users/dylan/VSCode/Prismadic/tractor-beam.git/example/fomchistorical2017_cleaned.txt', 'ts': datetime.datetime(2024, 3, 11, 19, 42, 0, 362904)}]]\n",
      "['example']\n",
      "[<tractor_beam.utils.config.Settings object at 0x105d18750>]\n",
      "[[{'file': 'https://www.federalreserve.gov/monetarypolicy/fomchistorical2017.htm', 'path': '/Users/dylan/VSCode/Prismadic/tractor-beam.git/example/fomchistorical2017.htm', 'cleaned': '/Users/dylan/VSCode/Prismadic/tractor-beam.git/example/fomchistorical2017_cleaned.txt', 'ts': datetime.datetime(2024, 3, 11, 19, 42, 0, 362904)}]]\n",
      "['example']\n",
      "[<tractor_beam.utils.config.Settings object at 0x105d18750>]\n",
      "[[{'file': 'https://www.federalreserve.gov/monetarypolicy/fomchistorical2017.htm', 'path': '/Users/dylan/VSCode/Prismadic/tractor-beam.git/example/fomchistorical2017.htm', 'cleaned': '/Users/dylan/VSCode/Prismadic/tractor-beam.git/example/fomchistorical2017_cleaned.txt', 'ts': datetime.datetime(2024, 3, 11, 19, 42, 0, 362904)}]]\n",
      "['example']\n",
      "[<tractor_beam.utils.config.Settings object at 0x105d18750>]\n"
     ]
    }
   ],
   "source": [
    "for run in auto.runs:\n",
    "    print(run)\n",
    "    \n",
    "for state in auto.state.data:\n",
    "    print([abduct_state.data for abduct_state in state.states.abduct])\n",
    "    print([visit_state.conf.settings for visit_state in state.states.visit])\n",
    "    print([process_state.conf.settings.name for process_state in state.states.process])\n"
   ]
  },
  {
   "cell_type": "code",
   "execution_count": null,
   "id": "40e20cb6",
   "metadata": {},
   "outputs": [],
   "source": []
  }
 ],
 "metadata": {
  "kernelspec": {
   "display_name": "Python 3 (ipykernel)",
   "language": "python",
   "name": "python3"
  },
  "language_info": {
   "codemirror_mode": {
    "name": "ipython",
    "version": 3
   },
   "file_extension": ".py",
   "mimetype": "text/x-python",
   "name": "python",
   "nbconvert_exporter": "python",
   "pygments_lexer": "ipython3",
   "version": "3.11.8"
  }
 },
 "nbformat": 4,
 "nbformat_minor": 5
}
