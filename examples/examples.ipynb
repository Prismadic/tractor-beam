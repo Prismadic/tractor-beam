{
 "cells": [
  {
   "cell_type": "code",
   "execution_count": 1,
   "id": "ca540024",
   "metadata": {},
   "outputs": [
    {
     "name": "stdout",
     "output_type": "stream",
     "text": [
      "\u001b[92m🌊 SUCCESS: Config loaded from - example\u001b[0m\n",
      "\u001b[92m🌊 SUCCESS: Unboxed! 🛸📦 - ./example\u001b[0m\n",
      "\u001b[94mℹ️ INFO: Config saved to - ./example/config.json\u001b[0m\n",
      "\u001b[96m☕️ WAIT: tractor beaming with \"example\" project\u001b[0m\n",
      "\u001b[94mℹ️ INFO: starting 1 jobs allocating 10.0% CPU total\u001b[0m\n",
      "\u001b[93m🚨 WARN: Error retrieving CPU frequency: [Errno 2] No such file or directory (originated from sysctl(HW_CPU_FREQ))\u001b[0m\n",
      "\u001b[94mℹ️ INFO: Abduct initialized\n",
      "AbductState(conf=Schema(role='server', settings=<tractor_beam.utils.config.Settings object at 0x106668090>), job=Job(url='https://www.federalreserve.gov/monetarypolicy/fomchistorical2017.htm', types=[], beacon=None, delay=None, custom=[{'func': '', 'headers': None, 'types': ['']}]), data=[])\u001b[0m\n",
      "\u001b[94mℹ️ INFO: running job:\n",
      "Job(url='https://www.federalreserve.gov/monetarypolicy/fomchistorical2017.htm', types=[], beacon=None, delay=None, custom=[{'func': '', 'headers': None, 'types': ['']}])\u001b[0m\n",
      "\u001b[94mℹ️ INFO: written - ./example/fomchistorical2017.htm\u001b[0m\n",
      "\u001b[92m🌊 SUCCESS: 1 downloaded\u001b[0m\n",
      "\u001b[94mℹ️ INFO: Visit initialized\n",
      "VisitState(conf=Schema(role='server', settings=<tractor_beam.utils.config.Settings object at 0x106668090>), job=Job(url='https://www.federalreserve.gov/monetarypolicy/fomchistorical2017.htm', types=[], beacon=None, delay=None, custom=[{'func': '', 'headers': None, 'types': ['']}]), data=[])\u001b[0m\n",
      "\u001b[96m☕️ WAIT: setting header with `.keys()`\u001b[0m\n",
      "\u001b[92m🌊 SUCCESS: headers detected as ['file', 'path'] from `.keys()`\u001b[0m\n",
      "\u001b[94mℹ️ INFO: created ./example/visit.csv\u001b[0m\n",
      "\u001b[94mℹ️ INFO: timestamped - 2024-03-15 14:42:44.000811\u001b[0m\n",
      "\u001b[92m🌊 SUCCESS: 1 written to ./example/visit.csv\u001b[0m\n",
      "\u001b[94mℹ️ INFO: Processor initialized\n",
      "VisitState(conf=Schema(role='server', settings=<tractor_beam.utils.config.Settings object at 0x106668090>), job=Job(url='https://www.federalreserve.gov/monetarypolicy/fomchistorical2017.htm', types=[], beacon=None, delay=None, custom=[{'func': '', 'headers': None, 'types': ['']}]), data=[])\u001b[0m\n",
      "\u001b[92m🌊 SUCCESS: Processed ./example/fomchistorical2017.htm to ./example/fomchistorical2017_converted.md\u001b[0m\n",
      "\u001b[92m🌊 SUCCESS: 🛸 done\u001b[0m\n"
     ]
    }
   ],
   "source": [
    "from tractor_beam import tractor\n",
    "auto = tractor.Beam('./configs/example.json')\n",
    "run = auto.go()"
   ]
  },
  {
   "cell_type": "code",
   "execution_count": 1,
   "id": "2792d63d",
   "metadata": {},
   "outputs": [
    {
     "name": "stdout",
     "output_type": "stream",
     "text": [
      "\u001b[92m🌊 SUCCESS: Config loaded from - edgar\u001b[0m\n",
      "\u001b[92m🌊 SUCCESS: Unboxed! 🛸📦 - ./edgar\u001b[0m\n",
      "\u001b[94mℹ️ INFO: Config saved to - ./edgar/config.json\u001b[0m\n",
      "\u001b[96m☕️ WAIT: tractor beaming with \"edgar\" project\u001b[0m\n",
      "\u001b[94mℹ️ INFO: starting 1 jobs allocating 10.0% CPU total\u001b[0m\n",
      "\u001b[93m🚨 WARN: watching with 5.1 delay\u001b[0m\n",
      "\u001b[93m🚨 WARN: Error retrieving CPU frequency: [Errno 2] No such file or directory (originated from sysctl(HW_CPU_FREQ))\u001b[0m\n",
      "\u001b[94mℹ️ INFO: Abduct initialized\n",
      "AbductState(conf=Schema(role='watcher', settings=<tractor_beam.utils.config.Settings object at 0x10d3dbe50>), job=Job(url='https://www.sec.gov/cgi-bin/browse-edgar?action=getcurrent&CIK=&type=&company=&dateb=&owner=include&start=0&count=1000&output=atom', types=['htm', 'xml', 'pdf', 'jpg', 'png', 'csv'], beacon='edgar', delay=5.1, custom={'func': '', 'headers': {'User-Agent': 'Paganda Group, LLC. alloydylan@icloud.com'}, 'types': []}), data=[])\u001b[0m\n",
      "\u001b[94mℹ️ INFO: running job:\n",
      "Job(url='https://www.sec.gov/cgi-bin/browse-edgar?action=getcurrent&CIK=&type=&company=&dateb=&owner=include&start=0&count=1000&output=atom', types=['htm', 'xml', 'pdf', 'jpg', 'png', 'csv'], beacon='edgar', delay=5.1, custom={'func': '', 'headers': {'User-Agent': 'Paganda Group, LLC. alloydylan@icloud.com'}, 'types': []})\u001b[0m\n",
      "\u001b[92m🌊 SUCCESS: loaded BEACON[edgar].Stream 🏦\u001b[0m\n",
      "\u001b[96m☕️ WAIT: BEACON[edgar].Stream 🏦 processing SEC filings\u001b[0m\n"
     ]
    },
    {
     "name": "stderr",
     "output_type": "stream",
     "text": [
      " 20%|\u001b[31m██        \u001b[0m| 20/100 [00:08<00:34,  2.31it/s, filing attachments=2]"
     ]
    }
   ],
   "source": [
    "from tractor_beam import tractor\n",
    "auto = tractor.Beam('./configs/example.watcher.edgar.json')\n",
    "run = auto.go()"
   ]
  },
  {
   "cell_type": "code",
   "execution_count": null,
   "id": "0597ec3f",
   "metadata": {},
   "outputs": [],
   "source": [
    "for run in auto.runs:\n",
    "    print(run)\n",
    "    \n",
    "for state in auto.state.data:\n",
    "    print([abduct_state.data for abduct_state in state.states.abduct])\n",
    "    print([visit_state.conf.settings for visit_state in state.states.visit])\n",
    "    print([process_state.conf.settings.name for process_state in state.states.process])\n"
   ]
  },
  {
   "cell_type": "code",
   "execution_count": null,
   "id": "40e20cb6",
   "metadata": {},
   "outputs": [],
   "source": []
  }
 ],
 "metadata": {
  "kernelspec": {
   "display_name": "Python 3 (ipykernel)",
   "language": "python",
   "name": "python3"
  },
  "language_info": {
   "codemirror_mode": {
    "name": "ipython",
    "version": 3
   },
   "file_extension": ".py",
   "mimetype": "text/x-python",
   "name": "python",
   "nbconvert_exporter": "python",
   "pygments_lexer": "ipython3",
   "version": "3.11.8"
  }
 },
 "nbformat": 4,
 "nbformat_minor": 5
}
