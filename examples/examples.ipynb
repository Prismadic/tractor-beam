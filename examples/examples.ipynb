{
 "cells": [
  {
   "cell_type": "code",
   "execution_count": 2,
   "id": "ca540024",
   "metadata": {},
   "outputs": [
    {
     "name": "stdout",
     "output_type": "stream",
     "text": [
      "\u001b[92m🌊 SUCCESS: config set from - ./example.json\u001b[0m\n",
      "\u001b[94mℹ️ INFO: config saved to - /Users/dylan/VSCode/Prismadic/tractor-beam.git/example\u001b[0m\n",
      "\u001b[92m🌊 SUCCESS: unboxed! 🛸📦 - /Users/dylan/VSCode/Prismadic/tractor-beam.git/example \u001b[0m\n",
      "\u001b[96m☕️ WAIT: tractor beaming with \"example\"\u001b[0m\n",
      "\u001b[94mℹ️ INFO: Abduct initialized\u001b[0m\n",
      "\u001b[94mℹ️ INFO: Records initialized\u001b[0m\n",
      "\u001b[94mℹ️ INFO: Focus initialized\u001b[0m\n",
      "\u001b[94mℹ️ INFO: written - /Users/dylan/VSCode/Prismadic/tractor-beam.git/example/fomchistorical2017.htm\u001b[0m\n",
      "\u001b[96m☕️ WAIT: setting header with `.keys()`\u001b[0m\n",
      "\u001b[92m🌊 SUCCESS: headers detected as ['file', 'path'] from `.keys()`\u001b[0m\n",
      "\u001b[94mℹ️ INFO: created /Users/dylan/VSCode/Prismadic/tractor-beam.git/example/receipts.csv\u001b[0m\n",
      "\u001b[94mℹ️ INFO: timestamped - 2024-03-09 08:06:58.792246\u001b[0m\n",
      "\u001b[92m🌊 SUCCESS: 1 written to /Users/dylan/VSCode/Prismadic/tractor-beam.git/example/receipts.csv\u001b[0m\n",
      "\u001b[94mℹ️ INFO: written - /Users/dylan/VSCode/Prismadic/tractor-beam.git/example/fomchistorical2017_cleaned.txt\u001b[0m\n",
      "\u001b[92m🌊 SUCCESS: 🛸 done\u001b[0m\n",
      "{'config': <tractor_beam.utils.config.Config object at 0x15756aa90>, 'Abduct': <tractor_beam.clone.replicator.Abduct object at 0x1634c3e90>, 'Records': <tractor_beam.visits.sites.Records object at 0x1370837d0>, 'Focus': <tractor_beam.laser.purify.Focus object at 0x107d48f90>, 'data': [{'file': 'https://www.federalreserve.gov/monetarypolicy/fomchistorical2017.htm', 'path': '/Users/dylan/VSCode/Prismadic/tractor-beam.git/example/fomchistorical2017.htm', 'ts': datetime.datetime(2024, 3, 9, 8, 6, 58, 792246)}], 'status': 'complete'}\n"
     ]
    }
   ],
   "source": [
    "from tractor_beam import tractor\n",
    "auto = tractor.Beam('./configs/example.json')\n",
    "run = auto.go()\n",
    "print(run)\n",
    "# auto.destroy('example')"
   ]
  },
  {
   "cell_type": "code",
   "execution_count": null,
   "id": "53353aa8",
   "metadata": {},
   "outputs": [],
   "source": [
    "from tractor_beam import tractor\n",
    "auto = tractor.Beam('./configs/example.youtube.json')\n",
    "run = auto.go()\n",
    "print(run)\n",
    "auto.destroy('example')"
   ]
  },
  {
   "cell_type": "code",
   "execution_count": 1,
   "id": "9b5b7c65",
   "metadata": {},
   "outputs": [
    {
     "name": "stdout",
     "output_type": "stream",
     "text": [
      "\u001b[92m🌊 SUCCESS: config set from - ./example.repulse.json\u001b[0m\n",
      "\u001b[94mℹ️ INFO: config saved to - ./example\u001b[0m\n",
      "\u001b[92m🌊 SUCCESS: unboxed! 🛸📦 - ./example \u001b[0m\n",
      "\u001b[96m☕️ WAIT: tractor beaming with \"example\"\u001b[0m\n",
      "\u001b[94mℹ️ INFO: Abduct initialized\u001b[0m\n",
      "\u001b[94mℹ️ INFO: Records initialized\u001b[0m\n",
      "\u001b[94mℹ️ INFO: Focus initialized\u001b[0m\n",
      "\u001b[94mℹ️ INFO: written - ./example/fomchistorical2017.htm\u001b[0m\n",
      "[{'file': 'https://www.federalreserve.gov/monetarypolicy/fomchistorical2017.htm', 'path': './example/fomchistorical2017.htm'}]\n",
      "\u001b[96m☕️ WAIT: setting header with `.keys()`\u001b[0m\n",
      "\u001b[92m🌊 SUCCESS: headers detected as ['file', 'path'] from `.keys()`\u001b[0m\n",
      "\u001b[94mℹ️ INFO: created ./example/receipts.csv\u001b[0m\n",
      "\u001b[94mℹ️ INFO: timestamped - 2024-02-26 13:14:44.806570\u001b[0m\n",
      "\u001b[92m🌊 SUCCESS: 1 written to ./example/receipts.csv\u001b[0m\n",
      "\u001b[94mℹ️ INFO: written - ./example/fomchistorical2017_cleaned.txt\u001b[0m\n",
      "\u001b[92m🌊 SUCCESS: 🛸 done\u001b[0m\n",
      "{'config': <tractor_beam.utils.config.Config object at 0x169750fd0>, 'Abduct': <tractor_beam.clone.replicator.Abduct object at 0x173b55e10>, 'Records': <tractor_beam.visits.sites.Records object at 0x17428ab10>, 'Focus': <tractor_beam.laser.purify.Focus object at 0x1744b5310>, 'data': [{'file': 'https://www.federalreserve.gov/monetarypolicy/fomchistorical2017.htm', 'path': './example/fomchistorical2017.htm', 'ts': datetime.datetime(2024, 2, 26, 13, 14, 44, 806570)}], 'status': 'complete'}\n",
      "\u001b[93m🚨 WARN: example destroyed\u001b[0m\n"
     ]
    },
    {
     "name": "stderr",
     "output_type": "stream",
     "text": [
      "/Users/peterkang/Projects/tractor-beam/tractor_beam/laser/purify.py:45: RuntimeWarning: coroutine 'RepulsionBeam.ToMotherShip' was never awaited\n",
      "  defaultRepulse.ToMotherShip(d['path']);\n",
      "RuntimeWarning: Enable tracemalloc to get the object allocation traceback\n"
     ]
    }
   ],
   "source": [
    "from tractor_beam import tractor\n",
    "auto = tractor.Beam('./configs/example.repulse.json')\n",
    "run = auto.go()\n",
    "print(run)\n",
    "auto.destroy('example')"
   ]
  },
  {
   "cell_type": "code",
   "execution_count": null,
   "id": "9a8fb48c",
   "metadata": {},
   "outputs": [],
   "source": [
    "from tractor_beam import tractor\n",
    "auto = tractor.Beam('./configs/recurse.example.json')\n",
    "run = auto.go()\n",
    "print(run)\n",
    "auto.destroy('recurse_example')"
   ]
  },
  {
   "cell_type": "code",
   "execution_count": null,
   "id": "2792d63d",
   "metadata": {},
   "outputs": [],
   "source": [
    "from tractor_beam import tractor\n",
    "auto = tractor.Beam('./configs/example.watcher.edgar.json')\n",
    "run = auto.go()\n",
    "print(run)"
   ]
  }
 ],
 "metadata": {
  "kernelspec": {
   "display_name": "Python 3 (ipykernel)",
   "language": "python",
   "name": "python3"
  },
  "language_info": {
   "codemirror_mode": {
    "name": "ipython",
    "version": 3
   },
   "file_extension": ".py",
   "mimetype": "text/x-python",
   "name": "python",
   "nbconvert_exporter": "python",
   "pygments_lexer": "ipython3",
   "version": "3.11.8"
  }
 },
 "nbformat": 4,
 "nbformat_minor": 5
}
