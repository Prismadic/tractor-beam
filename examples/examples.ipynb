{
 "cells": [
  {
   "cell_type": "code",
   "execution_count": null,
   "id": "ca540024",
   "metadata": {},
   "outputs": [],
   "source": [
    "from tractor_beam import tractor\n",
    "auto = tractor.Beam('./configs/example.json')\n",
    "run = auto.go()"
   ]
  },
  {
   "cell_type": "code",
   "execution_count": null,
   "id": "2792d63d",
   "metadata": {},
   "outputs": [],
   "source": [
    "from tractor_beam import tractor\n",
    "auto = tractor.Beam('./configs/example.watcher.edgar.json')\n",
    "run = auto.go()"
   ]
  },
  {
   "cell_type": "code",
   "execution_count": null,
   "id": "0597ec3f",
   "metadata": {},
   "outputs": [],
   "source": [
    "for state in auto.state.data:\n",
    "    print([abduct_state.conf.settings.name for abduct_state in state.states.abduct])\n",
    "    print([focus_state.conf.settings.name for focus_state in state.states.focus])"
   ]
  },
  {
   "cell_type": "code",
   "execution_count": null,
   "id": "40e20cb6",
   "metadata": {},
   "outputs": [],
   "source": []
  }
 ],
 "metadata": {
  "kernelspec": {
   "display_name": "Python 3 (ipykernel)",
   "language": "python",
   "name": "python3"
  },
  "language_info": {
   "codemirror_mode": {
    "name": "ipython",
    "version": 3
   },
   "file_extension": ".py",
   "mimetype": "text/x-python",
   "name": "python",
   "nbconvert_exporter": "python",
   "pygments_lexer": "ipython3",
   "version": "3.11.8"
  }
 },
 "nbformat": 4,
 "nbformat_minor": 5
}
