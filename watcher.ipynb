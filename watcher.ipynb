{
 "cells": [
  {
   "cell_type": "code",
   "execution_count": 1,
   "metadata": {},
   "outputs": [
    {
     "name": "stdout",
     "output_type": "stream",
     "text": [
      "\u001b[92m🌊 SUCCESS: config set from - ./example.watcher.edgar.json\u001b[0m\n",
      "\u001b[93m🚨 WARN: exists - /Users/dylan/VSCode/Prismadic/tractor-beam.git/edgar\u001b[0m\n",
      "\u001b[96m☕️ WAIT: tractor beaming with \"edgar\"\u001b[0m\n",
      "\u001b[94mℹ️ INFO: starting 1 jobs allocating 12.5% CPU total\u001b[0m\n",
      "\u001b[93m🚨 WARN: watching with 5.1 delay\u001b[0m\n",
      "\u001b[94mℹ️ INFO: Abduct initialized\u001b[0m\n",
      "\u001b[94mℹ️ INFO: Records initialized\u001b[0m\n",
      "\u001b[94mℹ️ INFO: Focus initialized\u001b[0m\n",
      "\u001b[94mℹ️ INFO: running job:\n",
      "{'url': 'https://www.sec.gov/cgi-bin/browse-edgar?action=getcurrent&CIK=&type=&company=&dateb=&owner=include&start=0&count=1000&output=atom', 'types': ['htm', 'xml', 'pdf', 'jpg', 'png', 'csv'], 'beacon': 'edgar', 'delay': 5.1, 'mothership': None, 'custom': [{'func': '', 'headers': {'User-Agent': 'Paganda Group, LLC. alloydylan@icloud.com'}, 'types': []}]}\u001b[0m\n",
      "\u001b[92m🌊 SUCCESS: loaded BEACON[edgar].Stream 🏦\u001b[0m\n",
      "\u001b[96m☕️ WAIT: BEACON[edgar].Stream 🏦 processing SEC filings\u001b[0m\n"
     ]
    },
    {
     "name": "stderr",
     "output_type": "stream",
     "text": [
      "100%|██████████| 100/100 [00:38<00:00,  2.60it/s, filing attachments=3]\n"
     ]
    },
    {
     "name": "stdout",
     "output_type": "stream",
     "text": [
      "\u001b[94mℹ️ INFO: written - /Users/dylan/VSCode/Prismadic/tractor-beam.git/edgar/4 - Hultberg Kelsey (0001861636) (Reporting)/4 - Hultberg Kelsey (0001861636) (Reporting)_wk-form4_1709953129.xml\u001b[0m\n",
      "\u001b[94mℹ️ INFO: written - /Users/dylan/VSCode/Prismadic/tractor-beam.git/edgar/4 - Sunnova Energy International Inc. (0001772695) (Issuer)/4 - Sunnova Energy International Inc. (0001772695) (Issuer)_wk-form4_1709953129.xml\u001b[0m\n",
      "\u001b[94mℹ️ INFO: written - /Users/dylan/VSCode/Prismadic/tractor-beam.git/edgar/4 - Quinn Grainne (0001679915) (Reporting)/4 - Quinn Grainne (0001679915) (Reporting)_wk-form4_1709953062.xml\u001b[0m\n",
      "\u001b[94mℹ️ INFO: written - /Users/dylan/VSCode/Prismadic/tractor-beam.git/edgar/4 - PERRIGO Co plc (0001585364) (Issuer)/4 - PERRIGO Co plc (0001585364) (Issuer)_wk-form4_1709953062.xml\u001b[0m\n",
      "\u001b[94mℹ️ INFO: written - /Users/dylan/VSCode/Prismadic/tractor-beam.git/edgar/4 - Nutting Meghan (0001783159) (Reporting)/4 - Nutting Meghan (0001783159) (Reporting)_wk-form4_1709952912.xml\u001b[0m\n",
      "\u001b[94mℹ️ INFO: written - /Users/dylan/VSCode/Prismadic/tractor-beam.git/edgar/4 - Sunnova Energy International Inc. (0001772695) (Issuer)/4 - Sunnova Energy International Inc. (0001772695) (Issuer)_wk-form4_1709952912.xml\u001b[0m\n",
      "\u001b[94mℹ️ INFO: written - /Users/dylan/VSCode/Prismadic/tractor-beam.git/edgar/4 - DiNello Alessandro (0001482776) (Reporting)/4 - DiNello Alessandro (0001482776) (Reporting)_ownership.xml\u001b[0m\n",
      "\u001b[94mℹ️ INFO: written - /Users/dylan/VSCode/Prismadic/tractor-beam.git/edgar/4 - NEW YORK COMMUNITY BANCORP INC (0000910073) (Issuer)/4 - NEW YORK COMMUNITY BANCORP INC (0000910073) (Issuer)_ownership.xml\u001b[0m\n",
      "\u001b[94mℹ️ INFO: written - /Users/dylan/VSCode/Prismadic/tractor-beam.git/edgar/4 - Sunnova Energy International Inc. (0001772695) (Issuer)/4 - Sunnova Energy International Inc. (0001772695) (Issuer)_wk-form4_1709952683.xml\u001b[0m\n",
      "\u001b[94mℹ️ INFO: written - /Users/dylan/VSCode/Prismadic/tractor-beam.git/edgar/4 - Lynch Jack O. III (0001574064) (Reporting)/4 - Lynch Jack O. III (0001574064) (Reporting)_wk-form4_1709952683.xml\u001b[0m\n",
      "\u001b[94mℹ️ INFO: written - /Users/dylan/VSCode/Prismadic/tractor-beam.git/edgar/4 - Sunnova Energy International Inc. (0001772695) (Issuer)/4 - Sunnova Energy International Inc. (0001772695) (Issuer)_wk-form4_1709952486.xml\u001b[0m\n",
      "\u001b[94mℹ️ INFO: written - /Users/dylan/VSCode/Prismadic/tractor-beam.git/edgar/4 - LANE ROBERT LAWRENCE (0001675877) (Reporting)/4 - LANE ROBERT LAWRENCE (0001675877) (Reporting)_wk-form4_1709952486.xml\u001b[0m\n",
      "\u001b[94mℹ️ INFO: written - /Users/dylan/VSCode/Prismadic/tractor-beam.git/edgar/4 - Landsea Homes Corp (0001721386) (Issuer)/4 - Landsea Homes Corp (0001721386) (Issuer)_ownership.xml\u001b[0m\n",
      "\u001b[94mℹ️ INFO: written - /Users/dylan/VSCode/Prismadic/tractor-beam.git/edgar/4 - FRANK BRUCE D (0001613504) (Reporting)/4 - FRANK BRUCE D (0001613504) (Reporting)_ownership.xml\u001b[0m\n",
      "\u001b[94mℹ️ INFO: written - /Users/dylan/VSCode/Prismadic/tractor-beam.git/edgar/4 - Fadule Mollie (0001899966) (Reporting)/4 - Fadule Mollie (0001899966) (Reporting)_ownership.xml\u001b[0m\n",
      "\u001b[94mℹ️ INFO: written - /Users/dylan/VSCode/Prismadic/tractor-beam.git/edgar/4 - Landsea Homes Corp (0001721386) (Issuer)/4 - Landsea Homes Corp (0001721386) (Issuer)_ownership.xml\u001b[0m\n",
      "\u001b[94mℹ️ INFO: written - /Users/dylan/VSCode/Prismadic/tractor-beam.git/edgar/4 - Forsum Michael (0001839958) (Reporting)/4 - Forsum Michael (0001839958) (Reporting)_ownership.xml\u001b[0m\n",
      "\u001b[94mℹ️ INFO: written - /Users/dylan/VSCode/Prismadic/tractor-beam.git/edgar/4 - Landsea Homes Corp (0001721386) (Issuer)/4 - Landsea Homes Corp (0001721386) (Issuer)_ownership.xml\u001b[0m\n",
      "\u001b[94mℹ️ INFO: written - /Users/dylan/VSCode/Prismadic/tractor-beam.git/edgar/4 - Hartfield Thomas (0001839409) (Reporting)/4 - Hartfield Thomas (0001839409) (Reporting)_ownership.xml\u001b[0m\n",
      "\u001b[94mℹ️ INFO: written - /Users/dylan/VSCode/Prismadic/tractor-beam.git/edgar/4 - Landsea Homes Corp (0001721386) (Issuer)/4 - Landsea Homes Corp (0001721386) (Issuer)_ownership.xml\u001b[0m\n",
      "\u001b[94mℹ️ INFO: written - /Users/dylan/VSCode/Prismadic/tractor-beam.git/edgar/4 - Ho John (0001839954) (Reporting)/4 - Ho John (0001839954) (Reporting)_ownership.xml\u001b[0m\n",
      "\u001b[94mℹ️ INFO: written - /Users/dylan/VSCode/Prismadic/tractor-beam.git/edgar/4 - Landsea Homes Corp (0001721386) (Issuer)/4 - Landsea Homes Corp (0001721386) (Issuer)_ownership.xml\u001b[0m\n",
      "\u001b[94mℹ️ INFO: written - /Users/dylan/VSCode/Prismadic/tractor-beam.git/edgar/4 - Unruh Jess (0001641925) (Reporting)/4 - Unruh Jess (0001641925) (Reporting)_primarydocument.xml\u001b[0m\n",
      "\u001b[94mℹ️ INFO: written - /Users/dylan/VSCode/Prismadic/tractor-beam.git/edgar/4 - GREEN DOT CORP (0001386278) (Issuer)/4 - GREEN DOT CORP (0001386278) (Issuer)_primarydocument.xml\u001b[0m\n",
      "\u001b[94mℹ️ INFO: written - /Users/dylan/VSCode/Prismadic/tractor-beam.git/edgar/4 - Willis Robert (0001770124) (Reporting)/4 - Willis Robert (0001770124) (Reporting)_wk-form4_1709951661.xml\u001b[0m\n",
      "\u001b[94mℹ️ INFO: written - /Users/dylan/VSCode/Prismadic/tractor-beam.git/edgar/4 - Willis Robert (0001770124) (Reporting)/4 - Willis Robert (0001770124) (Reporting)_a20190306willissecpoa.htm\u001b[0m\n",
      "\u001b[94mℹ️ INFO: written - /Users/dylan/VSCode/Prismadic/tractor-beam.git/edgar/4 - Willis Robert (0001770124) (Reporting)/4 - Willis Robert (0001770124) (Reporting)_a20190306willissecpoa001.jpg\u001b[0m\n",
      "\u001b[94mℹ️ INFO: written - /Users/dylan/VSCode/Prismadic/tractor-beam.git/edgar/4 - PERRIGO Co plc (0001585364) (Issuer)/4 - PERRIGO Co plc (0001585364) (Issuer)_wk-form4_1709951661.xml\u001b[0m\n",
      "\u001b[94mℹ️ INFO: written - /Users/dylan/VSCode/Prismadic/tractor-beam.git/edgar/4 - PERRIGO Co plc (0001585364) (Issuer)/4 - PERRIGO Co plc (0001585364) (Issuer)_a20190306willissecpoa.htm\u001b[0m\n",
      "\u001b[94mℹ️ INFO: written - /Users/dylan/VSCode/Prismadic/tractor-beam.git/edgar/4 - PERRIGO Co plc (0001585364) (Issuer)/4 - PERRIGO Co plc (0001585364) (Issuer)_a20190306willissecpoa001.jpg\u001b[0m\n",
      "\u001b[94mℹ️ INFO: written - /Users/dylan/VSCode/Prismadic/tractor-beam.git/edgar/4 - SASAKI GAIL M (0001422990) (Reporting)/4 - SASAKI GAIL M (0001422990) (Reporting)_tm248189-2_4seq1.xml\u001b[0m\n",
      "\u001b[94mℹ️ INFO: written - /Users/dylan/VSCode/Prismadic/tractor-beam.git/edgar/4 - NETLIST INC (0001282631) (Issuer)/4 - NETLIST INC (0001282631) (Issuer)_tm248189-2_4seq1.xml\u001b[0m\n",
      "\u001b[94mℹ️ INFO: written - /Users/dylan/VSCode/Prismadic/tractor-beam.git/edgar/SC 13D/A - Sixth Street Lending Partners (0001925309) (Subject)/SC 13D_A - Sixth Street Lending Partners (0001925309) (Subject)_d779521dsc13da.htm\u001b[0m\n",
      "\u001b[94mℹ️ INFO: written - /Users/dylan/VSCode/Prismadic/tractor-beam.git/edgar/SC 13D/A - Public Institution for Social Security (0001835851) (Filed by)/SC 13D_A - Public Institution for Social Security (0001835851) (Filed by)_d779521dsc13da.htm\u001b[0m\n",
      "\u001b[94mℹ️ INFO: written - /Users/dylan/VSCode/Prismadic/tractor-beam.git/edgar/4 - Lalezari Jacob P (0002001963) (Reporting)/4 - Lalezari Jacob P (0002001963) (Reporting)_tm248303-1_4seq1.xml\u001b[0m\n",
      "\u001b[94mℹ️ INFO: written - /Users/dylan/VSCode/Prismadic/tractor-beam.git/edgar/4 - Lalezari Jacob P (0002001963) (Reporting)/4 - Lalezari Jacob P (0002001963) (Reporting)_tm248303d1_ex24.htm\u001b[0m\n",
      "\u001b[94mℹ️ INFO: written - /Users/dylan/VSCode/Prismadic/tractor-beam.git/edgar/4 - CytoDyn Inc. (0001175680) (Issuer)/4 - CytoDyn Inc. (0001175680) (Issuer)_tm248303-1_4seq1.xml\u001b[0m\n",
      "\u001b[94mℹ️ INFO: written - /Users/dylan/VSCode/Prismadic/tractor-beam.git/edgar/4 - CytoDyn Inc. (0001175680) (Issuer)/4 - CytoDyn Inc. (0001175680) (Issuer)_tm248303d1_ex24.htm\u001b[0m\n",
      "\u001b[94mℹ️ INFO: written - /Users/dylan/VSCode/Prismadic/tractor-beam.git/edgar/4 - Hong Chun K (0001381057) (Reporting)/4 - Hong Chun K (0001381057) (Reporting)_tm248189-1_4seq1.xml\u001b[0m\n",
      "\u001b[94mℹ️ INFO: written - /Users/dylan/VSCode/Prismadic/tractor-beam.git/edgar/4 - NETLIST INC (0001282631) (Issuer)/4 - NETLIST INC (0001282631) (Issuer)_tm248189-1_4seq1.xml\u001b[0m\n",
      "\u001b[94mℹ️ INFO: written - /Users/dylan/VSCode/Prismadic/tractor-beam.git/edgar/4 - Fogassa Marc (0001607172) (Reporting)/4 - Fogassa Marc (0001607172) (Reporting)_ownership.xml\u001b[0m\n",
      "\u001b[94mℹ️ INFO: written - /Users/dylan/VSCode/Prismadic/tractor-beam.git/edgar/4 - Atlas Lithium Corp (0001540684) (Issuer)/4 - Atlas Lithium Corp (0001540684) (Issuer)_ownership.xml\u001b[0m\n",
      "\u001b[94mℹ️ INFO: written - /Users/dylan/VSCode/Prismadic/tractor-beam.git/edgar/4 - EchoStar CORP (0001415404) (Issuer)/4 - EchoStar CORP (0001415404) (Issuer)_form4-03082024_090301.xml\u001b[0m\n",
      "\u001b[94mℹ️ INFO: written - /Users/dylan/VSCode/Prismadic/tractor-beam.git/edgar/4 - DEFRANCO JAMES (0001090537) (Reporting)/4 - DEFRANCO JAMES (0001090537) (Reporting)_form4-03082024_090301.xml\u001b[0m\n",
      "\u001b[94mℹ️ INFO: written - /Users/dylan/VSCode/Prismadic/tractor-beam.git/edgar/4 - Pugh Amy Myers (0001944983) (Reporting)/4 - Pugh Amy Myers (0001944983) (Reporting)_primarydocument.xml\u001b[0m\n",
      "\u001b[94mℹ️ INFO: written - /Users/dylan/VSCode/Prismadic/tractor-beam.git/edgar/4 - GREEN DOT CORP (0001386278) (Issuer)/4 - GREEN DOT CORP (0001386278) (Issuer)_primarydocument.xml\u001b[0m\n",
      "\u001b[94mℹ️ INFO: written - /Users/dylan/VSCode/Prismadic/tractor-beam.git/edgar/4 - Watkins Teresa Elaine (0001954307) (Reporting)/4 - Watkins Teresa Elaine (0001954307) (Reporting)_primarydocument.xml\u001b[0m\n",
      "\u001b[94mℹ️ INFO: written - /Users/dylan/VSCode/Prismadic/tractor-beam.git/edgar/4 - GREEN DOT CORP (0001386278) (Issuer)/4 - GREEN DOT CORP (0001386278) (Issuer)_primarydocument.xml\u001b[0m\n",
      "\u001b[94mℹ️ INFO: written - /Users/dylan/VSCode/Prismadic/tractor-beam.git/edgar/4 - Ruppel Christian Devin (0001954371) (Reporting)/4 - Ruppel Christian Devin (0001954371) (Reporting)_primarydocument.xml\u001b[0m\n",
      "\u001b[94mℹ️ INFO: written - /Users/dylan/VSCode/Prismadic/tractor-beam.git/edgar/4 - GREEN DOT CORP (0001386278) (Issuer)/4 - GREEN DOT CORP (0001386278) (Issuer)_primarydocument.xml\u001b[0m\n",
      "\u001b[94mℹ️ INFO: written - /Users/dylan/VSCode/Prismadic/tractor-beam.git/edgar/4 - GREEN DOT CORP (0001386278) (Issuer)/4 - GREEN DOT CORP (0001386278) (Issuer)_primarydocument.xml\u001b[0m\n",
      "\u001b[94mℹ️ INFO: written - /Users/dylan/VSCode/Prismadic/tractor-beam.git/edgar/4 - Gresham George W (0001322663) (Reporting)/4 - Gresham George W (0001322663) (Reporting)_primarydocument.xml\u001b[0m\n",
      "\u001b[94mℹ️ INFO: written - /Users/dylan/VSCode/Prismadic/tractor-beam.git/edgar/4 - Dupree Timothy L (0001819703) (Reporting)/4 - Dupree Timothy L (0001819703) (Reporting)_form4.xml\u001b[0m\n",
      "\u001b[94mℹ️ INFO: written - /Users/dylan/VSCode/Prismadic/tractor-beam.git/edgar/4 - KELLY SERVICES INC (0000055135) (Issuer)/4 - KELLY SERVICES INC (0000055135) (Issuer)_form4.xml\u001b[0m\n",
      "\u001b[94mℹ️ INFO: written - /Users/dylan/VSCode/Prismadic/tractor-beam.git/edgar/4 - Janish Ronald Craig (0001679931) (Reporting)/4 - Janish Ronald Craig (0001679931) (Reporting)_wk-form4_1709950728.xml\u001b[0m\n",
      "\u001b[94mℹ️ INFO: written - /Users/dylan/VSCode/Prismadic/tractor-beam.git/edgar/4 - Janish Ronald Craig (0001679931) (Reporting)/4 - Janish Ronald Craig (0001679931) (Reporting)_rjpoa.htm\u001b[0m\n",
      "\u001b[94mℹ️ INFO: written - /Users/dylan/VSCode/Prismadic/tractor-beam.git/edgar/4 - Janish Ronald Craig (0001679931) (Reporting)/4 - Janish Ronald Craig (0001679931) (Reporting)_rjpoa001.jpg\u001b[0m\n",
      "\u001b[94mℹ️ INFO: written - /Users/dylan/VSCode/Prismadic/tractor-beam.git/edgar/4 - PERRIGO Co plc (0001585364) (Issuer)/4 - PERRIGO Co plc (0001585364) (Issuer)_wk-form4_1709950728.xml\u001b[0m\n",
      "\u001b[94mℹ️ INFO: written - /Users/dylan/VSCode/Prismadic/tractor-beam.git/edgar/4 - PERRIGO Co plc (0001585364) (Issuer)/4 - PERRIGO Co plc (0001585364) (Issuer)_rjpoa.htm\u001b[0m\n",
      "\u001b[94mℹ️ INFO: written - /Users/dylan/VSCode/Prismadic/tractor-beam.git/edgar/4 - PERRIGO Co plc (0001585364) (Issuer)/4 - PERRIGO Co plc (0001585364) (Issuer)_rjpoa001.jpg\u001b[0m\n",
      "\u001b[94mℹ️ INFO: written - /Users/dylan/VSCode/Prismadic/tractor-beam.git/edgar/3 - Heraud Benjamin (0002014457) (Reporting)/3 - Heraud Benjamin (0002014457) (Reporting)_rdgdoc.xml\u001b[0m\n",
      "\u001b[94mℹ️ INFO: written - /Users/dylan/VSCode/Prismadic/tractor-beam.git/edgar/3 - NV5 Global, Inc. (0001532961) (Issuer)/3 - NV5 Global, Inc. (0001532961) (Issuer)_rdgdoc.xml\u001b[0m\n",
      "\u001b[94mℹ️ INFO: written - /Users/dylan/VSCode/Prismadic/tractor-beam.git/edgar/4 - Shah Vivek (0001491021) (Reporting)/4 - Shah Vivek (0001491021) (Reporting)_marketforms-64355.xml\u001b[0m\n",
      "\u001b[94mℹ️ INFO: written - /Users/dylan/VSCode/Prismadic/tractor-beam.git/edgar/4 - ZIFF DAVIS, INC. (0001084048) (Issuer)/4 - ZIFF DAVIS, INC. (0001084048) (Issuer)_marketforms-64355.xml\u001b[0m\n",
      "\u001b[94mℹ️ INFO: written - /Users/dylan/VSCode/Prismadic/tractor-beam.git/edgar/4 - Farnsworth David F (0001680121) (Reporting)/4 - Farnsworth David F (0001680121) (Reporting)_form4.xml\u001b[0m\n",
      "\u001b[94mℹ️ INFO: written - /Users/dylan/VSCode/Prismadic/tractor-beam.git/edgar/4 - CVB FINANCIAL CORP (0000354647) (Issuer)/4 - CVB FINANCIAL CORP (0000354647) (Issuer)_form4.xml\u001b[0m\n",
      "\u001b[94mℹ️ INFO: written - /Users/dylan/VSCode/Prismadic/tractor-beam.git/edgar/4 - Tomita Kazumasa (0002010816) (Reporting)/4 - Tomita Kazumasa (0002010816) (Reporting)_form4.xml\u001b[0m\n",
      "\u001b[94mℹ️ INFO: written - /Users/dylan/VSCode/Prismadic/tractor-beam.git/edgar/4 - ZUU Funders Co. Ltd. (0002010795) (Reporting)/4 - ZUU Funders Co. Ltd. (0002010795) (Reporting)_form4.xml\u001b[0m\n",
      "\u001b[94mℹ️ INFO: written - /Users/dylan/VSCode/Prismadic/tractor-beam.git/edgar/4 - ZUU Co. Ltd. (0002010776) (Reporting)/4 - ZUU Co. Ltd. (0002010776) (Reporting)_form4.xml\u001b[0m\n",
      "\u001b[94mℹ️ INFO: written - /Users/dylan/VSCode/Prismadic/tractor-beam.git/edgar/4 - ZUU Target Fund for SBC Medical Group HD Investment Partnership (0002010768) (Reporting)/4 - ZUU Target Fund for SBC Medical Group HD Investment Partnership (0002010768) (Reporting)_form4.xml\u001b[0m\n",
      "\u001b[94mℹ️ INFO: written - /Users/dylan/VSCode/Prismadic/tractor-beam.git/edgar/4 - Pono Capital Two, Inc. (0001930313) (Issuer)/4 - Pono Capital Two, Inc. (0001930313) (Issuer)_form4.xml\u001b[0m\n",
      "\u001b[94mℹ️ INFO: written - /Users/dylan/VSCode/Prismadic/tractor-beam.git/edgar/4 - RICHTER BRET (0001231287) (Reporting)/4 - RICHTER BRET (0001231287) (Reporting)_marketforms-65117.xml\u001b[0m\n",
      "\u001b[94mℹ️ INFO: written - /Users/dylan/VSCode/Prismadic/tractor-beam.git/edgar/4 - ZIFF DAVIS, INC. (0001084048) (Issuer)/4 - ZIFF DAVIS, INC. (0001084048) (Issuer)_marketforms-65117.xml\u001b[0m\n",
      "\u001b[94mℹ️ INFO: written - /Users/dylan/VSCode/Prismadic/tractor-beam.git/edgar/4 - Taki Layth (0001763752) (Reporting)/4 - Taki Layth (0001763752) (Reporting)_marketforms-65118.xml\u001b[0m\n",
      "\u001b[94mℹ️ INFO: written - /Users/dylan/VSCode/Prismadic/tractor-beam.git/edgar/4 - ZIFF DAVIS, INC. (0001084048) (Issuer)/4 - ZIFF DAVIS, INC. (0001084048) (Issuer)_marketforms-65118.xml\u001b[0m\n",
      "\u001b[94mℹ️ INFO: written - /Users/dylan/VSCode/Prismadic/tractor-beam.git/edgar/4 - ROSSEN JEREMY (0001273809) (Reporting)/4 - ROSSEN JEREMY (0001273809) (Reporting)_marketforms-65114.xml\u001b[0m\n",
      "\u001b[94mℹ️ INFO: written - /Users/dylan/VSCode/Prismadic/tractor-beam.git/edgar/4 - ZIFF DAVIS, INC. (0001084048) (Issuer)/4 - ZIFF DAVIS, INC. (0001084048) (Issuer)_marketforms-65114.xml\u001b[0m\n",
      "\u001b[94mℹ️ INFO: written - /Users/dylan/VSCode/Prismadic/tractor-beam.git/edgar/4 - Murtagh Nigel J (0001649599) (Reporting)/4 - Murtagh Nigel J (0001649599) (Reporting)_wk-form4_1709950161.xml\u001b[0m\n",
      "\u001b[94mℹ️ INFO: written - /Users/dylan/VSCode/Prismadic/tractor-beam.git/edgar/4 - SCHWAB CHARLES CORP (0000316709) (Issuer)/4 - SCHWAB CHARLES CORP (0000316709) (Issuer)_wk-form4_1709950161.xml\u001b[0m\n",
      "\u001b[94mℹ️ INFO: written - /Users/dylan/VSCode/Prismadic/tractor-beam.git/edgar/3 - SHUSTER BRADLEY M (0001052831) (Reporting)/3 - SHUSTER BRADLEY M (0001052831) (Reporting)_wk-form3_1709949999.xml\u001b[0m\n",
      "\u001b[94mℹ️ INFO: written - /Users/dylan/VSCode/Prismadic/tractor-beam.git/edgar/3 - WAFD INC (0000936528) (Issuer)/3 - WAFD INC (0000936528) (Issuer)_wk-form3_1709949999.xml\u001b[0m\n",
      "\u001b[94mℹ️ INFO: written - /Users/dylan/VSCode/Prismadic/tractor-beam.git/edgar/3 - YZAGUIRRE MARIO MAX (0001198626) (Reporting)/3 - YZAGUIRRE MARIO MAX (0001198626) (Reporting)_wk-form3_1709949953.xml\u001b[0m\n",
      "\u001b[94mℹ️ INFO: written - /Users/dylan/VSCode/Prismadic/tractor-beam.git/edgar/3 - WAFD INC (0000936528) (Issuer)/3 - WAFD INC (0000936528) (Issuer)_wk-form3_1709949953.xml\u001b[0m\n",
      "\u001b[94mℹ️ INFO: written - /Users/dylan/VSCode/Prismadic/tractor-beam.git/edgar/4 - Starboard Principal Co GP LLC (0001517140) (Reporting)/4 - Starboard Principal Co GP LLC (0001517140) (Reporting)_e619356_4-sb2.xml\u001b[0m\n",
      "\u001b[94mℹ️ INFO: written - /Users/dylan/VSCode/Prismadic/tractor-beam.git/edgar/4 - Starboard Principal Co LP (0001517139) (Reporting)/4 - Starboard Principal Co LP (0001517139) (Reporting)_e619356_4-sb2.xml\u001b[0m\n",
      "\u001b[94mℹ️ INFO: written - /Users/dylan/VSCode/Prismadic/tractor-beam.git/edgar/4 - GREEN DOT CORP (0001386278) (Issuer)/4 - GREEN DOT CORP (0001386278) (Issuer)_e619356_4-sb2.xml\u001b[0m\n",
      "\u001b[94mℹ️ INFO: written - /Users/dylan/VSCode/Prismadic/tractor-beam.git/edgar/4 - Smith Jeffrey C (0001362697) (Reporting)/4 - Smith Jeffrey C (0001362697) (Reporting)_e619356_4-sb2.xml\u001b[0m\n",
      "\u001b[94mℹ️ INFO: written - /Users/dylan/VSCode/Prismadic/tractor-beam.git/edgar/4 - Starboard X Master Fund Ltd (0001833016) (Reporting)/4 - Starboard X Master Fund Ltd (0001833016) (Reporting)_e619355_4-sb1.xml\u001b[0m\n",
      "\u001b[94mℹ️ INFO: written - /Users/dylan/VSCode/Prismadic/tractor-beam.git/edgar/4 - Starboard Value L LP (0001767773) (Reporting)/4 - Starboard Value L LP (0001767773) (Reporting)_e619355_4-sb1.xml\u001b[0m\n",
      "\u001b[94mℹ️ INFO: written - /Users/dylan/VSCode/Prismadic/tractor-beam.git/edgar/4 - Starboard Value & Opportunity Master Fund L LP (0001767736) (Reporting)/4 - Starboard Value & Opportunity Master Fund L LP (0001767736) (Reporting)_e619355_4-sb1.xml\u001b[0m\n",
      "\u001b[94mℹ️ INFO: written - /Users/dylan/VSCode/Prismadic/tractor-beam.git/edgar/4 - Starboard Value R GP LLC (0001575979) (Reporting)/4 - Starboard Value R GP LLC (0001575979) (Reporting)_e619355_4-sb1.xml\u001b[0m\n",
      "\u001b[94mℹ️ INFO: written - /Users/dylan/VSCode/Prismadic/tractor-beam.git/edgar/4 - Starboard Value R LP (0001575972) (Reporting)/4 - Starboard Value R LP (0001575972) (Reporting)_e619355_4-sb1.xml\u001b[0m\n",
      "\u001b[94mℹ️ INFO: written - /Users/dylan/VSCode/Prismadic/tractor-beam.git/edgar/4 - Starboard Value & Opportunity C LP (0001571704) (Reporting)/4 - Starboard Value & Opportunity C LP (0001571704) (Reporting)_e619355_4-sb1.xml\u001b[0m\n",
      "\u001b[94mℹ️ INFO: written - /Users/dylan/VSCode/Prismadic/tractor-beam.git/edgar/4 - STARBOARD VALUE & OPPORTUNITY S LLC (0001519812) (Reporting)/4 - STARBOARD VALUE & OPPORTUNITY S LLC (0001519812) (Reporting)_e619355_4-sb1.xml\u001b[0m\n",
      "\u001b[94mℹ️ INFO: written - /Users/dylan/VSCode/Prismadic/tractor-beam.git/edgar/4 - Starboard Value GP LLC (0001517138) (Reporting)/4 - Starboard Value GP LLC (0001517138) (Reporting)_e619355_4-sb1.xml\u001b[0m\n",
      "\u001b[94mℹ️ INFO: written - /Users/dylan/VSCode/Prismadic/tractor-beam.git/edgar/4 - Starboard Value LP (0001517137) (Reporting)/4 - Starboard Value LP (0001517137) (Reporting)_e619355_4-sb1.xml\u001b[0m\n",
      "\u001b[94mℹ️ INFO: written - /Users/dylan/VSCode/Prismadic/tractor-beam.git/edgar/4 - GREEN DOT CORP (0001386278) (Issuer)/4 - GREEN DOT CORP (0001386278) (Issuer)_e619355_4-sb1.xml\u001b[0m\n",
      "\u001b[94mℹ️ INFO: written - /Users/dylan/VSCode/Prismadic/tractor-beam.git/edgar/4 - STARBOARD VALUE & OPPORTUNITY MASTER FUND LTD (0001373638) (Reporting)/4 - STARBOARD VALUE & OPPORTUNITY MASTER FUND LTD (0001373638) (Reporting)_e619355_4-sb1.xml\u001b[0m\n",
      "\u001b[94mℹ️ INFO: written - /Users/dylan/VSCode/Prismadic/tractor-beam.git/edgar/4 - Levenson Jonathan B. (0002014838) (Reporting)/4 - Levenson Jonathan B. (0002014838) (Reporting)_form4.xml\u001b[0m\n",
      "\u001b[94mℹ️ INFO: written - /Users/dylan/VSCode/Prismadic/tractor-beam.git/edgar/4 - Hamilton Insurance Group, Ltd. (0001593275) (Issuer)/4 - Hamilton Insurance Group, Ltd. (0001593275) (Issuer)_form4.xml\u001b[0m\n",
      "\u001b[94mℹ️ INFO: written - /Users/dylan/VSCode/Prismadic/tractor-beam.git/edgar/4 - Lolmaugh Cabell (0001731797) (Reporting)/4 - Lolmaugh Cabell (0001731797) (Reporting)_tm248404-4_4seq1.xml\u001b[0m\n",
      "\u001b[94mℹ️ INFO: written - /Users/dylan/VSCode/Prismadic/tractor-beam.git/edgar/4 - TILE SHOP HOLDINGS, INC. (0001552800) (Issuer)/4 - TILE SHOP HOLDINGS, INC. (0001552800) (Issuer)_tm248404-4_4seq1.xml\u001b[0m\n",
      "\u001b[94mℹ️ INFO: written - /Users/dylan/VSCode/Prismadic/tractor-beam.git/edgar/4 - Lunan Karla (0001903946) (Reporting)/4 - Lunan Karla (0001903946) (Reporting)_tm248404-3_4seq1.xml\u001b[0m\n",
      "\u001b[94mℹ️ INFO: written - /Users/dylan/VSCode/Prismadic/tractor-beam.git/edgar/4 - TILE SHOP HOLDINGS, INC. (0001552800) (Issuer)/4 - TILE SHOP HOLDINGS, INC. (0001552800) (Issuer)_tm248404-3_4seq1.xml\u001b[0m\n",
      "\u001b[94mℹ️ INFO: written - /Users/dylan/VSCode/Prismadic/tractor-beam.git/edgar/3 - Patterson Alan Neil (0002014678) (Reporting)/3 - Patterson Alan Neil (0002014678) (Reporting)_form3.xml\u001b[0m\n",
      "\u001b[94mℹ️ INFO: written - /Users/dylan/VSCode/Prismadic/tractor-beam.git/edgar/3 - Patterson Alan Neil (0002014678) (Reporting)/3 - Patterson Alan Neil (0002014678) (Reporting)_ef20023754_ex24.htm\u001b[0m\n",
      "\u001b[94mℹ️ INFO: written - /Users/dylan/VSCode/Prismadic/tractor-beam.git/edgar/3 - Hamilton Insurance Group, Ltd. (0001593275) (Issuer)/3 - Hamilton Insurance Group, Ltd. (0001593275) (Issuer)_form3.xml\u001b[0m\n",
      "\u001b[94mℹ️ INFO: written - /Users/dylan/VSCode/Prismadic/tractor-beam.git/edgar/3 - Hamilton Insurance Group, Ltd. (0001593275) (Issuer)/3 - Hamilton Insurance Group, Ltd. (0001593275) (Issuer)_ef20023754_ex24.htm\u001b[0m\n",
      "\u001b[94mℹ️ INFO: written - /Users/dylan/VSCode/Prismadic/tractor-beam.git/edgar/3 - Hamilton Insurance Group, Ltd. (0001593275) (Issuer)/3 - Hamilton Insurance Group, Ltd. (0001593275) (Issuer)_form3.xml\u001b[0m\n",
      "\u001b[94mℹ️ INFO: written - /Users/dylan/VSCode/Prismadic/tractor-beam.git/edgar/3 - Hamilton Insurance Group, Ltd. (0001593275) (Issuer)/3 - Hamilton Insurance Group, Ltd. (0001593275) (Issuer)_ef20023755_ex24.htm\u001b[0m\n",
      "\u001b[94mℹ️ INFO: written - /Users/dylan/VSCode/Prismadic/tractor-beam.git/edgar/3 - Vaughan Therese M (0001332615) (Reporting)/3 - Vaughan Therese M (0001332615) (Reporting)_form3.xml\u001b[0m\n"
     ]
    }
   ],
   "source": [
    "from tractor_beam import tractor\n",
    "auto = tractor.Beam('./example.watcher.edgar.json')\n",
    "run = auto.go()\n",
    "print(run)"
   ]
  },
  {
   "cell_type": "code",
   "execution_count": null,
   "metadata": {},
   "outputs": [
    {
     "name": "stdout",
     "output_type": "stream",
     "text": [
      "\u001b[93m🚨 WARN: edgar destroyed\u001b[0m\n"
     ]
    }
   ],
   "source": [
    "auto.destroy('edgar')"
   ]
  },
  {
   "cell_type": "code",
   "execution_count": null,
   "metadata": {},
   "outputs": [],
   "source": []
  }
 ],
 "metadata": {
  "kernelspec": {
   "display_name": "Python 3",
   "language": "python",
   "name": "python3"
  },
  "language_info": {
   "codemirror_mode": {
    "name": "ipython",
    "version": 3
   },
   "file_extension": ".py",
   "mimetype": "text/x-python",
   "name": "python",
   "nbconvert_exporter": "python",
   "pygments_lexer": "ipython3",
   "version": "3.11.8"
  }
 },
 "nbformat": 4,
 "nbformat_minor": 2
}
